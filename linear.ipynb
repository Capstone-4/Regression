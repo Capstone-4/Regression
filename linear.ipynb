{
 "cells": [
  {
   "cell_type": "code",
   "execution_count": 1,
   "metadata": {
    "pycharm": {
     "name": "#%%\n"
    }
   },
   "outputs": [],
   "source": [
    "import pandas as pd\n",
    "import matplotlib.pyplot as plt\n",
    "import numpy as np\n",
    "from sklearn.svm import SVR\n",
    "from sklearn.metrics import mean_squared_error, mean_absolute_error, r2_score\n",
    "import statsmodels.api as sm\n",
    "from sklearn.model_selection import GridSearchCV\n",
    "from sklearn.model_selection import cross_val_score\n",
    "from sklearn.preprocessing import scale\n",
    "from sklearn.model_selection import train_test_split\n",
    "from sklearn.ensemble import RandomForestRegressor\n",
    "import xgboost"
   ]
  },
  {
   "cell_type": "code",
   "execution_count": 2,
   "metadata": {
    "pycharm": {
     "name": "#%%\n"
    }
   },
   "outputs": [
    {
     "data": {
      "text/html": [
       "<div>\n",
       "<style scoped>\n",
       "    .dataframe tbody tr th:only-of-type {\n",
       "        vertical-align: middle;\n",
       "    }\n",
       "\n",
       "    .dataframe tbody tr th {\n",
       "        vertical-align: top;\n",
       "    }\n",
       "\n",
       "    .dataframe thead th {\n",
       "        text-align: right;\n",
       "    }\n",
       "</style>\n",
       "<table border=\"1\" class=\"dataframe\">\n",
       "  <thead>\n",
       "    <tr style=\"text-align: right;\">\n",
       "      <th></th>\n",
       "      <th>기준_년_코드</th>\n",
       "      <th>상권_구분_코드</th>\n",
       "      <th>상권_구분_코드_명</th>\n",
       "      <th>상권_코드</th>\n",
       "      <th>상권_코드_명</th>\n",
       "      <th>총_생활인구_수</th>\n",
       "      <th>집객시설_수</th>\n",
       "      <th>아파트_평균_면적</th>\n",
       "      <th>아파트_평균_시가</th>\n",
       "      <th>상권_변화_지표</th>\n",
       "      <th>...</th>\n",
       "      <th>운영_영업_개월_평균</th>\n",
       "      <th>폐업_영업_개월_평균</th>\n",
       "      <th>서울_운영_영업_개월_평균</th>\n",
       "      <th>서울_폐업_영업_개월_평균</th>\n",
       "      <th>구분</th>\n",
       "      <th>점포_수</th>\n",
       "      <th>매출_금액</th>\n",
       "      <th>매출_건수</th>\n",
       "      <th>엑스좌표_값</th>\n",
       "      <th>와이좌표_값</th>\n",
       "    </tr>\n",
       "  </thead>\n",
       "  <tbody>\n",
       "    <tr>\n",
       "      <th>0</th>\n",
       "      <td>2017</td>\n",
       "      <td>A</td>\n",
       "      <td>골목상권</td>\n",
       "      <td>2110001</td>\n",
       "      <td>이북5도청사</td>\n",
       "      <td>139405.75</td>\n",
       "      <td>22.5</td>\n",
       "      <td>124.0</td>\n",
       "      <td>376996219.5</td>\n",
       "      <td>LH</td>\n",
       "      <td>...</td>\n",
       "      <td>83.75</td>\n",
       "      <td>60.25</td>\n",
       "      <td>98.75</td>\n",
       "      <td>51.25</td>\n",
       "      <td>개인_서비스업</td>\n",
       "      <td>116</td>\n",
       "      <td>3.230693e+07</td>\n",
       "      <td>398</td>\n",
       "      <td>196193</td>\n",
       "      <td>456641</td>\n",
       "    </tr>\n",
       "    <tr>\n",
       "      <th>1</th>\n",
       "      <td>2017</td>\n",
       "      <td>A</td>\n",
       "      <td>골목상권</td>\n",
       "      <td>2110001</td>\n",
       "      <td>이북5도청사</td>\n",
       "      <td>139405.75</td>\n",
       "      <td>22.5</td>\n",
       "      <td>124.0</td>\n",
       "      <td>376996219.5</td>\n",
       "      <td>LH</td>\n",
       "      <td>...</td>\n",
       "      <td>83.75</td>\n",
       "      <td>60.25</td>\n",
       "      <td>98.75</td>\n",
       "      <td>51.25</td>\n",
       "      <td>교육_및_사업자원_서비스업</td>\n",
       "      <td>128</td>\n",
       "      <td>2.660860e+07</td>\n",
       "      <td>166</td>\n",
       "      <td>196193</td>\n",
       "      <td>456641</td>\n",
       "    </tr>\n",
       "    <tr>\n",
       "      <th>2</th>\n",
       "      <td>2017</td>\n",
       "      <td>A</td>\n",
       "      <td>골목상권</td>\n",
       "      <td>2110001</td>\n",
       "      <td>이북5도청사</td>\n",
       "      <td>139405.75</td>\n",
       "      <td>22.5</td>\n",
       "      <td>124.0</td>\n",
       "      <td>376996219.5</td>\n",
       "      <td>LH</td>\n",
       "      <td>...</td>\n",
       "      <td>83.75</td>\n",
       "      <td>60.25</td>\n",
       "      <td>98.75</td>\n",
       "      <td>51.25</td>\n",
       "      <td>기타_도소매업</td>\n",
       "      <td>98</td>\n",
       "      <td>2.564806e+06</td>\n",
       "      <td>96</td>\n",
       "      <td>196193</td>\n",
       "      <td>456641</td>\n",
       "    </tr>\n",
       "    <tr>\n",
       "      <th>3</th>\n",
       "      <td>2017</td>\n",
       "      <td>A</td>\n",
       "      <td>골목상권</td>\n",
       "      <td>2110001</td>\n",
       "      <td>이북5도청사</td>\n",
       "      <td>139405.75</td>\n",
       "      <td>22.5</td>\n",
       "      <td>124.0</td>\n",
       "      <td>376996219.5</td>\n",
       "      <td>LH</td>\n",
       "      <td>...</td>\n",
       "      <td>83.75</td>\n",
       "      <td>60.25</td>\n",
       "      <td>98.75</td>\n",
       "      <td>51.25</td>\n",
       "      <td>생활용품_도소매업</td>\n",
       "      <td>151</td>\n",
       "      <td>3.070350e+07</td>\n",
       "      <td>358</td>\n",
       "      <td>196193</td>\n",
       "      <td>456641</td>\n",
       "    </tr>\n",
       "    <tr>\n",
       "      <th>4</th>\n",
       "      <td>2017</td>\n",
       "      <td>A</td>\n",
       "      <td>골목상권</td>\n",
       "      <td>2110001</td>\n",
       "      <td>이북5도청사</td>\n",
       "      <td>139405.75</td>\n",
       "      <td>22.5</td>\n",
       "      <td>124.0</td>\n",
       "      <td>376996219.5</td>\n",
       "      <td>LH</td>\n",
       "      <td>...</td>\n",
       "      <td>83.75</td>\n",
       "      <td>60.25</td>\n",
       "      <td>98.75</td>\n",
       "      <td>51.25</td>\n",
       "      <td>수리업</td>\n",
       "      <td>24</td>\n",
       "      <td>1.999051e+08</td>\n",
       "      <td>874</td>\n",
       "      <td>196193</td>\n",
       "      <td>456641</td>\n",
       "    </tr>\n",
       "  </tbody>\n",
       "</table>\n",
       "<p>5 rows × 21 columns</p>\n",
       "</div>"
      ],
      "text/plain": [
       "   기준_년_코드 상권_구분_코드 상권_구분_코드_명    상권_코드 상권_코드_명   총_생활인구_수  집객시설_수  아파트_평균_면적  \\\n",
       "0     2017        A       골목상권  2110001  이북5도청사  139405.75    22.5      124.0   \n",
       "1     2017        A       골목상권  2110001  이북5도청사  139405.75    22.5      124.0   \n",
       "2     2017        A       골목상권  2110001  이북5도청사  139405.75    22.5      124.0   \n",
       "3     2017        A       골목상권  2110001  이북5도청사  139405.75    22.5      124.0   \n",
       "4     2017        A       골목상권  2110001  이북5도청사  139405.75    22.5      124.0   \n",
       "\n",
       "     아파트_평균_시가 상권_변화_지표  ... 운영_영업_개월_평균  폐업_영업_개월_평균  서울_운영_영업_개월_평균  \\\n",
       "0  376996219.5       LH  ...       83.75        60.25           98.75   \n",
       "1  376996219.5       LH  ...       83.75        60.25           98.75   \n",
       "2  376996219.5       LH  ...       83.75        60.25           98.75   \n",
       "3  376996219.5       LH  ...       83.75        60.25           98.75   \n",
       "4  376996219.5       LH  ...       83.75        60.25           98.75   \n",
       "\n",
       "   서울_폐업_영업_개월_평균              구분 점포_수         매출_금액  매출_건수  엑스좌표_값  와이좌표_값  \n",
       "0           51.25         개인_서비스업  116  3.230693e+07    398  196193  456641  \n",
       "1           51.25  교육_및_사업자원_서비스업  128  2.660860e+07    166  196193  456641  \n",
       "2           51.25         기타_도소매업   98  2.564806e+06     96  196193  456641  \n",
       "3           51.25       생활용품_도소매업  151  3.070350e+07    358  196193  456641  \n",
       "4           51.25             수리업   24  1.999051e+08    874  196193  456641  \n",
       "\n",
       "[5 rows x 21 columns]"
      ]
     },
     "execution_count": 2,
     "metadata": {},
     "output_type": "execute_result"
    }
   ],
   "source": [
    "store = pd.read_csv(\"data/commercial_with_xy.csv\",encoding = \"UTF-8\")\n",
    "store.head()"
   ]
  },
  {
   "cell_type": "code",
   "execution_count": 3,
   "metadata": {
    "pycharm": {
     "name": "#%%\n"
    }
   },
   "outputs": [
    {
     "data": {
      "text/plain": [
       "Index(['기준_년_코드', '상권_구분_코드', '상권_구분_코드_명', '상권_코드', '상권_코드_명', '총_생활인구_수',\n",
       "       '집객시설_수', '아파트_평균_면적', '아파트_평균_시가', '상권_변화_지표', '상권_변화_지표_명',\n",
       "       '운영_영업_개월_평균', '폐업_영업_개월_평균', '서울_운영_영업_개월_평균', '서울_폐업_영업_개월_평균', '구분',\n",
       "       '점포_수', '매출_금액', '매출_건수', '엑스좌표_값', '와이좌표_값'],\n",
       "      dtype='object')"
      ]
     },
     "execution_count": 3,
     "metadata": {},
     "output_type": "execute_result"
    }
   ],
   "source": [
    "store.columns"
   ]
  },
  {
   "cell_type": "code",
   "execution_count": 4,
   "metadata": {
    "pycharm": {
     "name": "#%%\n"
    }
   },
   "outputs": [],
   "source": [
    "store = store[['상권_코드_명','총_생활인구_수','집객시설_수','점포_수','아파트_평균_면적','아파트_평균_시가','서울_운영_영업_개월_평균','서울_폐업_영업_개월_평균','매출_건수', \"매출_금액\",'구분']]"
   ]
  },
  {
   "cell_type": "code",
   "execution_count": 5,
   "metadata": {
    "pycharm": {
     "name": "#%%\n"
    }
   },
   "outputs": [],
   "source": [
    "store = store.drop_duplicates()"
   ]
  },
  {
   "attachments": {},
   "cell_type": "markdown",
   "metadata": {
    "pycharm": {
     "name": "#%% md\n"
    }
   },
   "source": [
    "연도별값이 중요하지 않아서 연도 column 제외 + 그로인해 생기는 duplicate되는 값 제거"
   ]
  },
  {
   "cell_type": "code",
   "execution_count": 6,
   "metadata": {
    "pycharm": {
     "name": "#%%\n"
    }
   },
   "outputs": [
    {
     "data": {
      "text/html": [
       "<div>\n",
       "<style scoped>\n",
       "    .dataframe tbody tr th:only-of-type {\n",
       "        vertical-align: middle;\n",
       "    }\n",
       "\n",
       "    .dataframe tbody tr th {\n",
       "        vertical-align: top;\n",
       "    }\n",
       "\n",
       "    .dataframe thead th {\n",
       "        text-align: right;\n",
       "    }\n",
       "</style>\n",
       "<table border=\"1\" class=\"dataframe\">\n",
       "  <thead>\n",
       "    <tr style=\"text-align: right;\">\n",
       "      <th></th>\n",
       "      <th>상권_코드_명</th>\n",
       "      <th>총_생활인구_수</th>\n",
       "      <th>집객시설_수</th>\n",
       "      <th>점포_수</th>\n",
       "      <th>아파트_평균_면적</th>\n",
       "      <th>아파트_평균_시가</th>\n",
       "      <th>서울_운영_영업_개월_평균</th>\n",
       "      <th>서울_폐업_영업_개월_평균</th>\n",
       "      <th>매출_건수</th>\n",
       "      <th>매출_금액</th>\n",
       "      <th>구분</th>\n",
       "    </tr>\n",
       "  </thead>\n",
       "  <tbody>\n",
       "    <tr>\n",
       "      <th>0</th>\n",
       "      <td>이북5도청사</td>\n",
       "      <td>139405.75</td>\n",
       "      <td>22.5</td>\n",
       "      <td>116</td>\n",
       "      <td>124.0</td>\n",
       "      <td>376996219.5</td>\n",
       "      <td>98.75</td>\n",
       "      <td>51.25</td>\n",
       "      <td>398</td>\n",
       "      <td>3.230693e+07</td>\n",
       "      <td>개인_서비스업</td>\n",
       "    </tr>\n",
       "    <tr>\n",
       "      <th>1</th>\n",
       "      <td>이북5도청사</td>\n",
       "      <td>139405.75</td>\n",
       "      <td>22.5</td>\n",
       "      <td>128</td>\n",
       "      <td>124.0</td>\n",
       "      <td>376996219.5</td>\n",
       "      <td>98.75</td>\n",
       "      <td>51.25</td>\n",
       "      <td>166</td>\n",
       "      <td>2.660860e+07</td>\n",
       "      <td>교육_및_사업자원_서비스업</td>\n",
       "    </tr>\n",
       "    <tr>\n",
       "      <th>2</th>\n",
       "      <td>이북5도청사</td>\n",
       "      <td>139405.75</td>\n",
       "      <td>22.5</td>\n",
       "      <td>98</td>\n",
       "      <td>124.0</td>\n",
       "      <td>376996219.5</td>\n",
       "      <td>98.75</td>\n",
       "      <td>51.25</td>\n",
       "      <td>96</td>\n",
       "      <td>2.564806e+06</td>\n",
       "      <td>기타_도소매업</td>\n",
       "    </tr>\n",
       "    <tr>\n",
       "      <th>3</th>\n",
       "      <td>이북5도청사</td>\n",
       "      <td>139405.75</td>\n",
       "      <td>22.5</td>\n",
       "      <td>151</td>\n",
       "      <td>124.0</td>\n",
       "      <td>376996219.5</td>\n",
       "      <td>98.75</td>\n",
       "      <td>51.25</td>\n",
       "      <td>358</td>\n",
       "      <td>3.070350e+07</td>\n",
       "      <td>생활용품_도소매업</td>\n",
       "    </tr>\n",
       "    <tr>\n",
       "      <th>4</th>\n",
       "      <td>이북5도청사</td>\n",
       "      <td>139405.75</td>\n",
       "      <td>22.5</td>\n",
       "      <td>24</td>\n",
       "      <td>124.0</td>\n",
       "      <td>376996219.5</td>\n",
       "      <td>98.75</td>\n",
       "      <td>51.25</td>\n",
       "      <td>874</td>\n",
       "      <td>1.999051e+08</td>\n",
       "      <td>수리업</td>\n",
       "    </tr>\n",
       "    <tr>\n",
       "      <th>...</th>\n",
       "      <td>...</td>\n",
       "      <td>...</td>\n",
       "      <td>...</td>\n",
       "      <td>...</td>\n",
       "      <td>...</td>\n",
       "      <td>...</td>\n",
       "      <td>...</td>\n",
       "      <td>...</td>\n",
       "      <td>...</td>\n",
       "      <td>...</td>\n",
       "      <td>...</td>\n",
       "    </tr>\n",
       "    <tr>\n",
       "      <th>105310</th>\n",
       "      <td>중부시장(신중부시장)</td>\n",
       "      <td>927336.00</td>\n",
       "      <td>18.0</td>\n",
       "      <td>17</td>\n",
       "      <td>15.0</td>\n",
       "      <td>148636943.0</td>\n",
       "      <td>121.25</td>\n",
       "      <td>55.50</td>\n",
       "      <td>308</td>\n",
       "      <td>3.510748e+07</td>\n",
       "      <td>숙박업</td>\n",
       "    </tr>\n",
       "    <tr>\n",
       "      <th>105311</th>\n",
       "      <td>중부시장(신중부시장)</td>\n",
       "      <td>927336.00</td>\n",
       "      <td>18.0</td>\n",
       "      <td>25</td>\n",
       "      <td>15.0</td>\n",
       "      <td>148636943.0</td>\n",
       "      <td>121.25</td>\n",
       "      <td>55.50</td>\n",
       "      <td>375</td>\n",
       "      <td>1.061767e+07</td>\n",
       "      <td>스포츠_및_오락_서비스업</td>\n",
       "    </tr>\n",
       "    <tr>\n",
       "      <th>105312</th>\n",
       "      <td>중부시장(신중부시장)</td>\n",
       "      <td>927336.00</td>\n",
       "      <td>18.0</td>\n",
       "      <td>1663</td>\n",
       "      <td>15.0</td>\n",
       "      <td>148636943.0</td>\n",
       "      <td>121.25</td>\n",
       "      <td>55.50</td>\n",
       "      <td>147094</td>\n",
       "      <td>7.184864e+09</td>\n",
       "      <td>식료품_도소매업</td>\n",
       "    </tr>\n",
       "    <tr>\n",
       "      <th>105313</th>\n",
       "      <td>중부시장(신중부시장)</td>\n",
       "      <td>927336.00</td>\n",
       "      <td>18.0</td>\n",
       "      <td>243</td>\n",
       "      <td>15.0</td>\n",
       "      <td>148636943.0</td>\n",
       "      <td>121.25</td>\n",
       "      <td>55.50</td>\n",
       "      <td>19070</td>\n",
       "      <td>5.655092e+08</td>\n",
       "      <td>음식점_및_주점업</td>\n",
       "    </tr>\n",
       "    <tr>\n",
       "      <th>105314</th>\n",
       "      <td>중부시장(신중부시장)</td>\n",
       "      <td>927336.00</td>\n",
       "      <td>18.0</td>\n",
       "      <td>251</td>\n",
       "      <td>15.0</td>\n",
       "      <td>148636943.0</td>\n",
       "      <td>121.25</td>\n",
       "      <td>55.50</td>\n",
       "      <td>51512</td>\n",
       "      <td>3.202202e+09</td>\n",
       "      <td>제조업</td>\n",
       "    </tr>\n",
       "  </tbody>\n",
       "</table>\n",
       "<p>105198 rows × 11 columns</p>\n",
       "</div>"
      ],
      "text/plain": [
       "            상권_코드_명   총_생활인구_수  집객시설_수  점포_수  아파트_평균_면적    아파트_평균_시가  \\\n",
       "0            이북5도청사  139405.75    22.5   116      124.0  376996219.5   \n",
       "1            이북5도청사  139405.75    22.5   128      124.0  376996219.5   \n",
       "2            이북5도청사  139405.75    22.5    98      124.0  376996219.5   \n",
       "3            이북5도청사  139405.75    22.5   151      124.0  376996219.5   \n",
       "4            이북5도청사  139405.75    22.5    24      124.0  376996219.5   \n",
       "...             ...        ...     ...   ...        ...          ...   \n",
       "105310  중부시장(신중부시장)  927336.00    18.0    17       15.0  148636943.0   \n",
       "105311  중부시장(신중부시장)  927336.00    18.0    25       15.0  148636943.0   \n",
       "105312  중부시장(신중부시장)  927336.00    18.0  1663       15.0  148636943.0   \n",
       "105313  중부시장(신중부시장)  927336.00    18.0   243       15.0  148636943.0   \n",
       "105314  중부시장(신중부시장)  927336.00    18.0   251       15.0  148636943.0   \n",
       "\n",
       "        서울_운영_영업_개월_평균  서울_폐업_영업_개월_평균   매출_건수         매출_금액              구분  \n",
       "0                98.75           51.25     398  3.230693e+07         개인_서비스업  \n",
       "1                98.75           51.25     166  2.660860e+07  교육_및_사업자원_서비스업  \n",
       "2                98.75           51.25      96  2.564806e+06         기타_도소매업  \n",
       "3                98.75           51.25     358  3.070350e+07       생활용품_도소매업  \n",
       "4                98.75           51.25     874  1.999051e+08             수리업  \n",
       "...                ...             ...     ...           ...             ...  \n",
       "105310          121.25           55.50     308  3.510748e+07             숙박업  \n",
       "105311          121.25           55.50     375  1.061767e+07   스포츠_및_오락_서비스업  \n",
       "105312          121.25           55.50  147094  7.184864e+09        식료품_도소매업  \n",
       "105313          121.25           55.50   19070  5.655092e+08       음식점_및_주점업  \n",
       "105314          121.25           55.50   51512  3.202202e+09             제조업  \n",
       "\n",
       "[105198 rows x 11 columns]"
      ]
     },
     "execution_count": 6,
     "metadata": {},
     "output_type": "execute_result"
    }
   ],
   "source": [
    "store"
   ]
  },
  {
   "cell_type": "code",
   "execution_count": 7,
   "metadata": {
    "pycharm": {
     "name": "#%%\n"
    }
   },
   "outputs": [],
   "source": [
    "store.rename(columns={'서울_운영_영업_개월_평균': '영업_개월_평균', '서울_폐업_영업_개월_평균':'폐업_개월_평균','구분':'업종_명'},inplace=True)"
   ]
  },
  {
   "cell_type": "code",
   "execution_count": 8,
   "metadata": {
    "pycharm": {
     "name": "#%%\n"
    }
   },
   "outputs": [],
   "source": [
    "store = store.reset_index(drop=True)"
   ]
  },
  {
   "cell_type": "code",
   "execution_count": 9,
   "metadata": {
    "pycharm": {
     "name": "#%%\n"
    }
   },
   "outputs": [
    {
     "data": {
      "text/html": [
       "<div>\n",
       "<style scoped>\n",
       "    .dataframe tbody tr th:only-of-type {\n",
       "        vertical-align: middle;\n",
       "    }\n",
       "\n",
       "    .dataframe tbody tr th {\n",
       "        vertical-align: top;\n",
       "    }\n",
       "\n",
       "    .dataframe thead th {\n",
       "        text-align: right;\n",
       "    }\n",
       "</style>\n",
       "<table border=\"1\" class=\"dataframe\">\n",
       "  <thead>\n",
       "    <tr style=\"text-align: right;\">\n",
       "      <th></th>\n",
       "      <th>상권_코드_명</th>\n",
       "      <th>총_생활인구_수</th>\n",
       "      <th>집객시설_수</th>\n",
       "      <th>점포_수</th>\n",
       "      <th>아파트_평균_면적</th>\n",
       "      <th>아파트_평균_시가</th>\n",
       "      <th>영업_개월_평균</th>\n",
       "      <th>폐업_개월_평균</th>\n",
       "      <th>매출_건수</th>\n",
       "      <th>매출_금액</th>\n",
       "      <th>업종_명</th>\n",
       "    </tr>\n",
       "  </thead>\n",
       "  <tbody>\n",
       "    <tr>\n",
       "      <th>0</th>\n",
       "      <td>이북5도청사</td>\n",
       "      <td>139405.75</td>\n",
       "      <td>22.5</td>\n",
       "      <td>116</td>\n",
       "      <td>124.0</td>\n",
       "      <td>376996219.5</td>\n",
       "      <td>98.75</td>\n",
       "      <td>51.25</td>\n",
       "      <td>398</td>\n",
       "      <td>3.230693e+07</td>\n",
       "      <td>개인_서비스업</td>\n",
       "    </tr>\n",
       "    <tr>\n",
       "      <th>1</th>\n",
       "      <td>이북5도청사</td>\n",
       "      <td>139405.75</td>\n",
       "      <td>22.5</td>\n",
       "      <td>128</td>\n",
       "      <td>124.0</td>\n",
       "      <td>376996219.5</td>\n",
       "      <td>98.75</td>\n",
       "      <td>51.25</td>\n",
       "      <td>166</td>\n",
       "      <td>2.660860e+07</td>\n",
       "      <td>교육_및_사업자원_서비스업</td>\n",
       "    </tr>\n",
       "    <tr>\n",
       "      <th>2</th>\n",
       "      <td>이북5도청사</td>\n",
       "      <td>139405.75</td>\n",
       "      <td>22.5</td>\n",
       "      <td>98</td>\n",
       "      <td>124.0</td>\n",
       "      <td>376996219.5</td>\n",
       "      <td>98.75</td>\n",
       "      <td>51.25</td>\n",
       "      <td>96</td>\n",
       "      <td>2.564806e+06</td>\n",
       "      <td>기타_도소매업</td>\n",
       "    </tr>\n",
       "    <tr>\n",
       "      <th>3</th>\n",
       "      <td>이북5도청사</td>\n",
       "      <td>139405.75</td>\n",
       "      <td>22.5</td>\n",
       "      <td>151</td>\n",
       "      <td>124.0</td>\n",
       "      <td>376996219.5</td>\n",
       "      <td>98.75</td>\n",
       "      <td>51.25</td>\n",
       "      <td>358</td>\n",
       "      <td>3.070350e+07</td>\n",
       "      <td>생활용품_도소매업</td>\n",
       "    </tr>\n",
       "    <tr>\n",
       "      <th>4</th>\n",
       "      <td>이북5도청사</td>\n",
       "      <td>139405.75</td>\n",
       "      <td>22.5</td>\n",
       "      <td>24</td>\n",
       "      <td>124.0</td>\n",
       "      <td>376996219.5</td>\n",
       "      <td>98.75</td>\n",
       "      <td>51.25</td>\n",
       "      <td>874</td>\n",
       "      <td>1.999051e+08</td>\n",
       "      <td>수리업</td>\n",
       "    </tr>\n",
       "    <tr>\n",
       "      <th>...</th>\n",
       "      <td>...</td>\n",
       "      <td>...</td>\n",
       "      <td>...</td>\n",
       "      <td>...</td>\n",
       "      <td>...</td>\n",
       "      <td>...</td>\n",
       "      <td>...</td>\n",
       "      <td>...</td>\n",
       "      <td>...</td>\n",
       "      <td>...</td>\n",
       "      <td>...</td>\n",
       "    </tr>\n",
       "    <tr>\n",
       "      <th>105193</th>\n",
       "      <td>중부시장(신중부시장)</td>\n",
       "      <td>927336.00</td>\n",
       "      <td>18.0</td>\n",
       "      <td>17</td>\n",
       "      <td>15.0</td>\n",
       "      <td>148636943.0</td>\n",
       "      <td>121.25</td>\n",
       "      <td>55.50</td>\n",
       "      <td>308</td>\n",
       "      <td>3.510748e+07</td>\n",
       "      <td>숙박업</td>\n",
       "    </tr>\n",
       "    <tr>\n",
       "      <th>105194</th>\n",
       "      <td>중부시장(신중부시장)</td>\n",
       "      <td>927336.00</td>\n",
       "      <td>18.0</td>\n",
       "      <td>25</td>\n",
       "      <td>15.0</td>\n",
       "      <td>148636943.0</td>\n",
       "      <td>121.25</td>\n",
       "      <td>55.50</td>\n",
       "      <td>375</td>\n",
       "      <td>1.061767e+07</td>\n",
       "      <td>스포츠_및_오락_서비스업</td>\n",
       "    </tr>\n",
       "    <tr>\n",
       "      <th>105195</th>\n",
       "      <td>중부시장(신중부시장)</td>\n",
       "      <td>927336.00</td>\n",
       "      <td>18.0</td>\n",
       "      <td>1663</td>\n",
       "      <td>15.0</td>\n",
       "      <td>148636943.0</td>\n",
       "      <td>121.25</td>\n",
       "      <td>55.50</td>\n",
       "      <td>147094</td>\n",
       "      <td>7.184864e+09</td>\n",
       "      <td>식료품_도소매업</td>\n",
       "    </tr>\n",
       "    <tr>\n",
       "      <th>105196</th>\n",
       "      <td>중부시장(신중부시장)</td>\n",
       "      <td>927336.00</td>\n",
       "      <td>18.0</td>\n",
       "      <td>243</td>\n",
       "      <td>15.0</td>\n",
       "      <td>148636943.0</td>\n",
       "      <td>121.25</td>\n",
       "      <td>55.50</td>\n",
       "      <td>19070</td>\n",
       "      <td>5.655092e+08</td>\n",
       "      <td>음식점_및_주점업</td>\n",
       "    </tr>\n",
       "    <tr>\n",
       "      <th>105197</th>\n",
       "      <td>중부시장(신중부시장)</td>\n",
       "      <td>927336.00</td>\n",
       "      <td>18.0</td>\n",
       "      <td>251</td>\n",
       "      <td>15.0</td>\n",
       "      <td>148636943.0</td>\n",
       "      <td>121.25</td>\n",
       "      <td>55.50</td>\n",
       "      <td>51512</td>\n",
       "      <td>3.202202e+09</td>\n",
       "      <td>제조업</td>\n",
       "    </tr>\n",
       "  </tbody>\n",
       "</table>\n",
       "<p>105198 rows × 11 columns</p>\n",
       "</div>"
      ],
      "text/plain": [
       "            상권_코드_명   총_생활인구_수  집객시설_수  점포_수  아파트_평균_면적    아파트_평균_시가  \\\n",
       "0            이북5도청사  139405.75    22.5   116      124.0  376996219.5   \n",
       "1            이북5도청사  139405.75    22.5   128      124.0  376996219.5   \n",
       "2            이북5도청사  139405.75    22.5    98      124.0  376996219.5   \n",
       "3            이북5도청사  139405.75    22.5   151      124.0  376996219.5   \n",
       "4            이북5도청사  139405.75    22.5    24      124.0  376996219.5   \n",
       "...             ...        ...     ...   ...        ...          ...   \n",
       "105193  중부시장(신중부시장)  927336.00    18.0    17       15.0  148636943.0   \n",
       "105194  중부시장(신중부시장)  927336.00    18.0    25       15.0  148636943.0   \n",
       "105195  중부시장(신중부시장)  927336.00    18.0  1663       15.0  148636943.0   \n",
       "105196  중부시장(신중부시장)  927336.00    18.0   243       15.0  148636943.0   \n",
       "105197  중부시장(신중부시장)  927336.00    18.0   251       15.0  148636943.0   \n",
       "\n",
       "        영업_개월_평균  폐업_개월_평균   매출_건수         매출_금액            업종_명  \n",
       "0          98.75     51.25     398  3.230693e+07         개인_서비스업  \n",
       "1          98.75     51.25     166  2.660860e+07  교육_및_사업자원_서비스업  \n",
       "2          98.75     51.25      96  2.564806e+06         기타_도소매업  \n",
       "3          98.75     51.25     358  3.070350e+07       생활용품_도소매업  \n",
       "4          98.75     51.25     874  1.999051e+08             수리업  \n",
       "...          ...       ...     ...           ...             ...  \n",
       "105193    121.25     55.50     308  3.510748e+07             숙박업  \n",
       "105194    121.25     55.50     375  1.061767e+07   스포츠_및_오락_서비스업  \n",
       "105195    121.25     55.50  147094  7.184864e+09        식료품_도소매업  \n",
       "105196    121.25     55.50   19070  5.655092e+08       음식점_및_주점업  \n",
       "105197    121.25     55.50   51512  3.202202e+09             제조업  \n",
       "\n",
       "[105198 rows x 11 columns]"
      ]
     },
     "execution_count": 9,
     "metadata": {},
     "output_type": "execute_result"
    }
   ],
   "source": [
    "store"
   ]
  },
  {
   "cell_type": "code",
   "execution_count": 10,
   "metadata": {
    "collapsed": false,
    "pycharm": {
     "name": "#%%\n"
    }
   },
   "outputs": [
    {
     "data": {
      "text/plain": [
       "array(['개인_서비스업', '교육_및_사업자원_서비스업', '기타_도소매업', '생활용품_도소매업', '수리업', '숙박업',\n",
       "       '스포츠_및_오락_서비스업', '식료품_도소매업', '음식점_및_주점업', '제조업',\n",
       "       '가전제품_및_통신기기_도소매업', '기타_서비스업', '부동산_및_임대업', '중고상품_도소매업'],\n",
       "      dtype=object)"
      ]
     },
     "execution_count": 10,
     "metadata": {},
     "output_type": "execute_result"
    }
   ],
   "source": [
    "store[\"업종_명\"].unique()"
   ]
  },
  {
   "cell_type": "code",
   "execution_count": 11,
   "metadata": {
    "collapsed": false,
    "pycharm": {
     "name": "#%%\n"
    }
   },
   "outputs": [],
   "source": [
    "sectors = [\"개인_서비스업\", \"교육_및_사업자원_서비스업\", \"기타_도소매업\", \"생활용품_도소매업\", \"수리업\", \"숙박업\",\n",
    "          \"스포츠_및_오락_서비스업\", \"식료품_도소매업\", \"음식점_및_주점업\", \"제조업\", \"가전제품_및_통신기기_도소매업\",\n",
    "          \"기타_서비스업\", \"부동산_및_임대업\", \"중고상품_도소매업\"]"
   ]
  },
  {
   "cell_type": "code",
   "execution_count": 12,
   "metadata": {
    "collapsed": false,
    "pycharm": {
     "name": "#%%\n"
    }
   },
   "outputs": [],
   "source": [
    "ols_summary = []\n",
    "for sector in sectors:\n",
    "    data = store[store[\"업종_명\"] == sector]\n",
    "    X = data[[\"총_생활인구_수\", \"집객시설_수\", \"점포_수\", \"아파트_평균_면적\", \"아파트_평균_시가\", \"영업_개월_평균\", \"폐업_개월_평균\", \"매출_건수\"]]\n",
    "    y = data[\"매출_금액\"]\n",
    "    result = sm.OLS(y, X).fit()\n",
    "\n",
    "    ols_summary.append(result.summary())"
   ]
  },
  {
   "cell_type": "code",
   "execution_count": 13,
   "metadata": {
    "collapsed": false,
    "pycharm": {
     "name": "#%%\n"
    }
   },
   "outputs": [
    {
     "data": {
      "text/html": [
       "<table class=\"simpletable\">\n",
       "<caption>OLS Regression Results</caption>\n",
       "<tr>\n",
       "  <th>Dep. Variable:</th>          <td>매출_금액</td>      <th>  R-squared (uncentered):</th>       <td>   0.630</td>  \n",
       "</tr>\n",
       "<tr>\n",
       "  <th>Model:</th>                   <td>OLS</td>       <th>  Adj. R-squared (uncentered):</th>  <td>   0.630</td>  \n",
       "</tr>\n",
       "<tr>\n",
       "  <th>Method:</th>             <td>Least Squares</td>  <th>  F-statistic:       </th>           <td>   1737.</td>  \n",
       "</tr>\n",
       "<tr>\n",
       "  <th>Date:</th>             <td>Thu, 01 Jun 2023</td> <th>  Prob (F-statistic):</th>            <td>  0.00</td>   \n",
       "</tr>\n",
       "<tr>\n",
       "  <th>Time:</th>                 <td>19:07:20</td>     <th>  Log-Likelihood:    </th>          <td>-1.9452e+05</td>\n",
       "</tr>\n",
       "<tr>\n",
       "  <th>No. Observations:</th>      <td>  8166</td>      <th>  AIC:               </th>           <td>3.891e+05</td> \n",
       "</tr>\n",
       "<tr>\n",
       "  <th>Df Residuals:</th>          <td>  8158</td>      <th>  BIC:               </th>           <td>3.891e+05</td> \n",
       "</tr>\n",
       "<tr>\n",
       "  <th>Df Model:</th>              <td>     8</td>      <th>                     </th>               <td> </td>     \n",
       "</tr>\n",
       "<tr>\n",
       "  <th>Covariance Type:</th>      <td>nonrobust</td>    <th>                     </th>               <td> </td>     \n",
       "</tr>\n",
       "</table>\n",
       "<table class=\"simpletable\">\n",
       "<tr>\n",
       "      <td></td>         <th>coef</th>     <th>std err</th>      <th>t</th>      <th>P>|t|</th>  <th>[0.025</th>    <th>0.975]</th>  \n",
       "</tr>\n",
       "<tr>\n",
       "  <th>총_생활인구_수</th>  <td>  -41.1826</td> <td>   45.155</td> <td>   -0.912</td> <td> 0.362</td> <td> -129.698</td> <td>   47.333</td>\n",
       "</tr>\n",
       "<tr>\n",
       "  <th>집객시설_수</th>    <td>-1.359e+07</td> <td> 1.99e+06</td> <td>   -6.839</td> <td> 0.000</td> <td>-1.75e+07</td> <td>-9.69e+06</td>\n",
       "</tr>\n",
       "<tr>\n",
       "  <th>점포_수</th>      <td> 1.505e+07</td> <td> 1.47e+05</td> <td>  102.173</td> <td> 0.000</td> <td> 1.48e+07</td> <td> 1.53e+07</td>\n",
       "</tr>\n",
       "<tr>\n",
       "  <th>아파트_평균_면적</th> <td> 1.118e+06</td> <td> 5.64e+06</td> <td>    0.198</td> <td> 0.843</td> <td>-9.94e+06</td> <td> 1.22e+07</td>\n",
       "</tr>\n",
       "<tr>\n",
       "  <th>아파트_평균_시가</th> <td>   -0.0714</td> <td>    0.607</td> <td>   -0.118</td> <td> 0.906</td> <td>   -1.262</td> <td>    1.119</td>\n",
       "</tr>\n",
       "<tr>\n",
       "  <th>영업_개월_평균</th>  <td> 9.361e+07</td> <td> 1.48e+07</td> <td>    6.315</td> <td> 0.000</td> <td> 6.45e+07</td> <td> 1.23e+08</td>\n",
       "</tr>\n",
       "<tr>\n",
       "  <th>폐업_개월_평균</th>  <td>  -2.1e+08</td> <td> 3.21e+07</td> <td>   -6.551</td> <td> 0.000</td> <td>-2.73e+08</td> <td>-1.47e+08</td>\n",
       "</tr>\n",
       "<tr>\n",
       "  <th>매출_건수</th>     <td> 1.669e+04</td> <td>  789.879</td> <td>   21.131</td> <td> 0.000</td> <td> 1.51e+04</td> <td> 1.82e+04</td>\n",
       "</tr>\n",
       "</table>\n",
       "<table class=\"simpletable\">\n",
       "<tr>\n",
       "  <th>Omnibus:</th>       <td>16292.107</td> <th>  Durbin-Watson:     </th>   <td>   0.819</td>   \n",
       "</tr>\n",
       "<tr>\n",
       "  <th>Prob(Omnibus):</th>  <td> 0.000</td>   <th>  Jarque-Bera (JB):  </th> <td>215676473.458</td>\n",
       "</tr>\n",
       "<tr>\n",
       "  <th>Skew:</th>           <td>15.435</td>   <th>  Prob(JB):          </th>   <td>    0.00</td>   \n",
       "</tr>\n",
       "<tr>\n",
       "  <th>Kurtosis:</th>       <td>798.565</td>  <th>  Cond. No.          </th>   <td>1.60e+08</td>   \n",
       "</tr>\n",
       "</table><br/><br/>Notes:<br/>[1] R² is computed without centering (uncentered) since the model does not contain a constant.<br/>[2] Standard Errors assume that the covariance matrix of the errors is correctly specified.<br/>[3] The condition number is large, 1.6e+08. This might indicate that there are<br/>strong multicollinearity or other numerical problems."
      ],
      "text/latex": [
       "\\begin{center}\n",
       "\\begin{tabular}{lclc}\n",
       "\\toprule\n",
       "\\textbf{Dep. Variable:}    &      매출\\_금액      & \\textbf{  R-squared (uncentered):}      &       0.630    \\\\\n",
       "\\textbf{Model:}            &       OLS        & \\textbf{  Adj. R-squared (uncentered):} &       0.630    \\\\\n",
       "\\textbf{Method:}           &  Least Squares   & \\textbf{  F-statistic:       }          &       1737.    \\\\\n",
       "\\textbf{Date:}             & Thu, 01 Jun 2023 & \\textbf{  Prob (F-statistic):}          &       0.00     \\\\\n",
       "\\textbf{Time:}             &     19:07:20     & \\textbf{  Log-Likelihood:    }          &  -1.9452e+05   \\\\\n",
       "\\textbf{No. Observations:} &        8166      & \\textbf{  AIC:               }          &   3.891e+05    \\\\\n",
       "\\textbf{Df Residuals:}     &        8158      & \\textbf{  BIC:               }          &   3.891e+05    \\\\\n",
       "\\textbf{Df Model:}         &           8      & \\textbf{                     }          &                \\\\\n",
       "\\textbf{Covariance Type:}  &    nonrobust     & \\textbf{                     }          &                \\\\\n",
       "\\bottomrule\n",
       "\\end{tabular}\n",
       "\\begin{tabular}{lcccccc}\n",
       "                     & \\textbf{coef} & \\textbf{std err} & \\textbf{t} & \\textbf{P$> |$t$|$} & \\textbf{[0.025} & \\textbf{0.975]}  \\\\\n",
       "\\midrule\n",
       "\\textbf{총\\_생활인구\\_수}  &     -41.1826  &       45.155     &    -0.912  &         0.362        &     -129.698    &       47.333     \\\\\n",
       "\\textbf{집객시설\\_수}     &   -1.359e+07  &     1.99e+06     &    -6.839  &         0.000        &    -1.75e+07    &    -9.69e+06     \\\\\n",
       "\\textbf{점포\\_수}       &    1.505e+07  &     1.47e+05     &   102.173  &         0.000        &     1.48e+07    &     1.53e+07     \\\\\n",
       "\\textbf{아파트\\_평균\\_면적} &    1.118e+06  &     5.64e+06     &     0.198  &         0.843        &    -9.94e+06    &     1.22e+07     \\\\\n",
       "\\textbf{아파트\\_평균\\_시가} &      -0.0714  &        0.607     &    -0.118  &         0.906        &       -1.262    &        1.119     \\\\\n",
       "\\textbf{영업\\_개월\\_평균}  &    9.361e+07  &     1.48e+07     &     6.315  &         0.000        &     6.45e+07    &     1.23e+08     \\\\\n",
       "\\textbf{폐업\\_개월\\_평균}  &     -2.1e+08  &     3.21e+07     &    -6.551  &         0.000        &    -2.73e+08    &    -1.47e+08     \\\\\n",
       "\\textbf{매출\\_건수}      &    1.669e+04  &      789.879     &    21.131  &         0.000        &     1.51e+04    &     1.82e+04     \\\\\n",
       "\\bottomrule\n",
       "\\end{tabular}\n",
       "\\begin{tabular}{lclc}\n",
       "\\textbf{Omnibus:}       & 16292.107 & \\textbf{  Durbin-Watson:     } &       0.819    \\\\\n",
       "\\textbf{Prob(Omnibus):} &    0.000  & \\textbf{  Jarque-Bera (JB):  } & 215676473.458  \\\\\n",
       "\\textbf{Skew:}          &   15.435  & \\textbf{  Prob(JB):          } &        0.00    \\\\\n",
       "\\textbf{Kurtosis:}      &  798.565  & \\textbf{  Cond. No.          } &    1.60e+08    \\\\\n",
       "\\bottomrule\n",
       "\\end{tabular}\n",
       "%\\caption{OLS Regression Results}\n",
       "\\end{center}\n",
       "\n",
       "Notes: \\newline\n",
       " [1] R² is computed without centering (uncentered) since the model does not contain a constant. \\newline\n",
       " [2] Standard Errors assume that the covariance matrix of the errors is correctly specified. \\newline\n",
       " [3] The condition number is large, 1.6e+08. This might indicate that there are \\newline\n",
       " strong multicollinearity or other numerical problems."
      ],
      "text/plain": [
       "<class 'statsmodels.iolib.summary.Summary'>\n",
       "\"\"\"\n",
       "                                 OLS Regression Results                                \n",
       "=======================================================================================\n",
       "Dep. Variable:                  매출_금액   R-squared (uncentered):                   0.630\n",
       "Model:                            OLS   Adj. R-squared (uncentered):              0.630\n",
       "Method:                 Least Squares   F-statistic:                              1737.\n",
       "Date:                Thu, 01 Jun 2023   Prob (F-statistic):                        0.00\n",
       "Time:                        19:07:20   Log-Likelihood:                     -1.9452e+05\n",
       "No. Observations:                8166   AIC:                                  3.891e+05\n",
       "Df Residuals:                    8158   BIC:                                  3.891e+05\n",
       "Df Model:                           8                                                  \n",
       "Covariance Type:            nonrobust                                                  \n",
       "==============================================================================\n",
       "                 coef    std err          t      P>|t|      [0.025      0.975]\n",
       "------------------------------------------------------------------------------\n",
       "총_생활인구_수     -41.1826     45.155     -0.912      0.362    -129.698      47.333\n",
       "집객시설_수     -1.359e+07   1.99e+06     -6.839      0.000   -1.75e+07   -9.69e+06\n",
       "점포_수        1.505e+07   1.47e+05    102.173      0.000    1.48e+07    1.53e+07\n",
       "아파트_평균_면적   1.118e+06   5.64e+06      0.198      0.843   -9.94e+06    1.22e+07\n",
       "아파트_평균_시가     -0.0714      0.607     -0.118      0.906      -1.262       1.119\n",
       "영업_개월_평균    9.361e+07   1.48e+07      6.315      0.000    6.45e+07    1.23e+08\n",
       "폐업_개월_평균     -2.1e+08   3.21e+07     -6.551      0.000   -2.73e+08   -1.47e+08\n",
       "매출_건수       1.669e+04    789.879     21.131      0.000    1.51e+04    1.82e+04\n",
       "==============================================================================\n",
       "Omnibus:                    16292.107   Durbin-Watson:                   0.819\n",
       "Prob(Omnibus):                  0.000   Jarque-Bera (JB):        215676473.458\n",
       "Skew:                          15.435   Prob(JB):                         0.00\n",
       "Kurtosis:                     798.565   Cond. No.                     1.60e+08\n",
       "==============================================================================\n",
       "\n",
       "Notes:\n",
       "[1] R² is computed without centering (uncentered) since the model does not contain a constant.\n",
       "[2] Standard Errors assume that the covariance matrix of the errors is correctly specified.\n",
       "[3] The condition number is large, 1.6e+08. This might indicate that there are\n",
       "strong multicollinearity or other numerical problems.\n",
       "\"\"\""
      ]
     },
     "execution_count": 13,
     "metadata": {},
     "output_type": "execute_result"
    }
   ],
   "source": [
    "ols_summary[10]"
   ]
  },
  {
   "cell_type": "code",
   "execution_count": 15,
   "metadata": {
    "collapsed": false,
    "pycharm": {
     "name": "#%%\n"
    }
   },
   "outputs": [
    {
     "name": "stderr",
     "output_type": "stream",
     "text": [
      "/Users/moonseongyu/miniconda3/lib/python3.10/site-packages/sklearn/preprocessing/_data.py:240: UserWarning: Numerical issues were encountered when centering the data and might not be solved. Dataset may contain too large values. You may need to prescale your features.\n",
      "  warnings.warn(\n",
      "/Users/moonseongyu/miniconda3/lib/python3.10/site-packages/sklearn/preprocessing/_data.py:240: UserWarning: Numerical issues were encountered when centering the data and might not be solved. Dataset may contain too large values. You may need to prescale your features.\n",
      "  warnings.warn(\n"
     ]
    },
    {
     "name": "stdout",
     "output_type": "stream",
     "text": [
      "R-squared:  0.19111187151127051\n",
      "CV mean score:  -0.0918493842287655\n",
      "MSE:  0.6123292281258028\n"
     ]
    }
   ],
   "source": [
    "data = store[store[\"업종_명\"] == \"가전제품_및_통신기기_도소매업\"]\n",
    "\n",
    "X = data[[\"총_생활인구_수\", \"집객시설_수\", \"점포_수\", \"아파트_평균_면적\", \"아파트_평균_시가\", \"영업_개월_평균\", \"폐업_개월_평균\", \"매출_건수\"]]\n",
    "y = data[\"매출_금액\"]\n",
    "\n",
    "X = scale(X)\n",
    "y = scale(y)\n",
    "\n",
    "X_train, X_test, y_train, y_test = train_test_split(X, y, test_size=0.3)\n",
    "\n",
    "svr = SVR(kernel='rbf', gamma='auto')\n",
    "y_rbf = svr.fit(X_train,y_train)\n",
    "\n",
    "score = svr.score(X_train, y_train)\n",
    "print(\"R-squared: \", score)\n",
    "\n",
    "cv_score = cross_val_score(svr, X, y, cv=5)\n",
    "print(\"CV mean score: \", cv_score.mean())\n",
    "\n",
    "y_pred = svr.predict(X_test)\n",
    "\n",
    "mse = mean_squared_error(y_test, y_pred)\n",
    "print(\"MSE: \", mse)"
   ]
  },
  {
   "cell_type": "code",
   "execution_count": 17,
   "metadata": {
    "collapsed": false,
    "pycharm": {
     "name": "#%%\n"
    }
   },
   "outputs": [
    {
     "name": "stdout",
     "output_type": "stream",
     "text": [
      "mse:  523846497.4422056\n",
      "rmse:  22887.693143744425\n",
      "R-squared:  0.36355456177463474\n"
     ]
    }
   ],
   "source": [
    "data = store[store[\"업종_명\"] == \"가전제품_및_통신기기_도소매업\"]\n",
    "\n",
    "X = data[[\"총_생활인구_수\", \"집객시설_수\", \"점포_수\", \"아파트_평균_면적\", \"아파트_평균_시가\", \"영업_개월_평균\", \"폐업_개월_평균\", \"매출_건수\"]]\n",
    "y = data[\"매출_금액\"]\n",
    "\n",
    "X_train, X_test, y_train, y_test = train_test_split(X, y, test_size=0.3)\n",
    "\n",
    "model = RandomForestRegressor()\n",
    "model.fit(X_train, y_train)\n",
    "\n",
    "y_pred = model.predict(X_test)\n",
    "\n",
    "mse = mean_absolute_error(y_test, y_pred)\n",
    "print('mse: ', mse)\n",
    "rmse = (np.sqrt(mse))\n",
    "print('rmse: ', rmse)\n",
    "r2 = r2_score(y_test, y_pred)\n",
    "print('R-squared: ', r2)"
   ]
  },
  {
   "cell_type": "code",
   "execution_count": 18,
   "metadata": {
    "collapsed": false,
    "pycharm": {
     "name": "#%%\n"
    }
   },
   "outputs": [
    {
     "name": "stdout",
     "output_type": "stream",
     "text": [
      "0.9948567681032042\n",
      "0.8419662645154143\n"
     ]
    }
   ],
   "source": [
    "data = store[store[\"업종_명\"] == \"가전제품_및_통신기기_도소매업\"]\n",
    "\n",
    "X = data[[\"총_생활인구_수\", \"집객시설_수\", \"점포_수\", \"아파트_평균_면적\", \"아파트_평균_시가\", \"영업_개월_평균\", \"폐업_개월_평균\", \"매출_건수\"]]\n",
    "y = data[\"매출_금액\"]\n",
    "\n",
    "X_train, X_test, y_train, y_test = train_test_split(X, y, test_size=0.3)\n",
    "\n",
    "xgb_model = xgboost.XGBRegressor(n_estimators=100, learning_rate=0.08, gamma=0,\n",
    "                                 subsample=0.75, colsample_bytree=1, max_depth=7)\n",
    "\n",
    "xgb_model.fit(X_train,y_train)\n",
    "\n",
    "r2 = xgb_model.score(X_train, y_train)\n",
    "print(r2)\n",
    "r2 = xgb_model.score(X_test, y_test)\n",
    "print(r2)"
   ]
  },
  {
   "cell_type": "code",
   "execution_count": 19,
   "metadata": {
    "collapsed": false,
    "pycharm": {
     "name": "#%%\n"
    }
   },
   "outputs": [],
   "source": [
    "xgb_model = xgboost.XGBRegressor(n_estimators=100, learning_rate=0.08, gamma=0,\n",
    "                                 subsample=0.75, colsample_bytree=1, max_depth=7)\n",
    "xgb_r2 = []\n",
    "\n",
    "\n",
    "for sector in sectors:\n",
    "    data = store[store[\"업종_명\"] == sector]\n",
    "    X = data[[\"총_생활인구_수\", \"집객시설_수\", \"점포_수\", \"아파트_평균_면적\", \"아파트_평균_시가\", \"영업_개월_평균\", \"폐업_개월_평균\", \"매출_건수\"]]\n",
    "    y = data[\"매출_금액\"]\n",
    "    \n",
    "    X_train, X_test, y_train, y_test = train_test_split(X, y, test_size=0.3)\n",
    "    \n",
    "    xgb_model.fit(X_train, y_train)\n",
    "    r2 = xgb_model.score(X_train, y_train)\n",
    "    \n",
    "    xgb_r2.append(r2)"
   ]
  },
  {
   "cell_type": "code",
   "execution_count": 20,
   "metadata": {},
   "outputs": [
    {
     "data": {
      "text/plain": [
       "0.9956671264761116"
      ]
     },
     "execution_count": 20,
     "metadata": {},
     "output_type": "execute_result"
    }
   ],
   "source": [
    "xgb_r2[10]"
   ]
  },
  {
   "cell_type": "code",
   "execution_count": 18,
   "metadata": {},
   "outputs": [
    {
     "name": "stdout",
     "output_type": "stream",
     "text": [
      "Fitting 3 folds for each of 2880 candidates, totalling 8640 fits\n"
     ]
    },
    {
     "name": "stderr",
     "output_type": "stream",
     "text": [
      "/Users/moonseongyu/miniconda3/lib/python3.10/site-packages/joblib/externals/loky/process_executor.py:700: UserWarning: A worker stopped while some jobs were given to the executor. This can be caused by a too short worker timeout or by a memory leak.\n",
      "  warnings.warn(\n"
     ]
    },
    {
     "name": "stdout",
     "output_type": "stream",
     "text": [
      "==============================\n",
      "업종: 개인_서비스업\n",
      "XGB's best parameters: , XGBRegressor(base_score=None, booster=None, callbacks=None,\n",
      "             colsample_bylevel=None, colsample_bynode=None,\n",
      "             colsample_bytree=None, early_stopping_rounds=None,\n",
      "             enable_categorical=False, eval_metric=None, feature_types=None,\n",
      "             gamma=0, gpu_id=None, grow_policy=None, importance_type=None,\n",
      "             interaction_constraints=None, learning_rate=0.1, max_bin=None,\n",
      "             max_cat_threshold=None, max_cat_to_onehot=None,\n",
      "             max_delta_step=None, max_depth=6, max_leaves=None,\n",
      "             min_child_weight=None, missing=nan, monotone_constraints=None,\n",
      "             n_estimators=700, n_jobs=None, num_parallel_tree=None,\n",
      "             predictor=None, random_state=None, ...)\n",
      "XGB 예측 정확도: 0.8447\n",
      "Fitting 3 folds for each of 2880 candidates, totalling 8640 fits\n"
     ]
    },
    {
     "name": "stderr",
     "output_type": "stream",
     "text": [
      "/Users/moonseongyu/miniconda3/lib/python3.10/site-packages/joblib/externals/loky/process_executor.py:700: UserWarning: A worker stopped while some jobs were given to the executor. This can be caused by a too short worker timeout or by a memory leak.\n",
      "  warnings.warn(\n"
     ]
    },
    {
     "ename": "KeyboardInterrupt",
     "evalue": "",
     "output_type": "error",
     "traceback": [
      "\u001b[0;31m---------------------------------------------------------------------------\u001b[0m",
      "\u001b[0;31mKeyboardInterrupt\u001b[0m                         Traceback (most recent call last)",
      "Cell \u001b[0;32mIn[18], line 22\u001b[0m\n\u001b[1;32m     19\u001b[0m X_train, X_test, y_train, y_test \u001b[39m=\u001b[39m train_test_split(X, y, test_size\u001b[39m=\u001b[39m\u001b[39m0.3\u001b[39m)\n\u001b[1;32m     21\u001b[0m gscv_xgb \u001b[39m=\u001b[39m GridSearchCV (estimator \u001b[39m=\u001b[39m xgb_model, param_grid \u001b[39m=\u001b[39m param_xgb, scoring \u001b[39m=\u001b[39m\u001b[39m\"\u001b[39m\u001b[39mr2\u001b[39m\u001b[39m\"\u001b[39m, n_jobs \u001b[39m=\u001b[39m \u001b[39m5\u001b[39m, cv \u001b[39m=\u001b[39m \u001b[39m3\u001b[39m, verbose \u001b[39m=\u001b[39m \u001b[39m1\u001b[39m)\n\u001b[0;32m---> 22\u001b[0m gscv_xgb\u001b[39m.\u001b[39;49mfit(X_train, y_train)\n\u001b[1;32m     24\u001b[0m \u001b[39mprint\u001b[39m(\u001b[39m\"\u001b[39m\u001b[39m=\u001b[39m\u001b[39m\"\u001b[39m \u001b[39m*\u001b[39m \u001b[39m30\u001b[39m)\n\u001b[1;32m     25\u001b[0m \u001b[39mprint\u001b[39m(\u001b[39mf\u001b[39m\u001b[39m\"\u001b[39m\u001b[39m업종: \u001b[39m\u001b[39m{\u001b[39;00msector\u001b[39m}\u001b[39;00m\u001b[39m\"\u001b[39m)\n",
      "File \u001b[0;32m~/miniconda3/lib/python3.10/site-packages/sklearn/model_selection/_search.py:874\u001b[0m, in \u001b[0;36mBaseSearchCV.fit\u001b[0;34m(self, X, y, groups, **fit_params)\u001b[0m\n\u001b[1;32m    868\u001b[0m     results \u001b[39m=\u001b[39m \u001b[39mself\u001b[39m\u001b[39m.\u001b[39m_format_results(\n\u001b[1;32m    869\u001b[0m         all_candidate_params, n_splits, all_out, all_more_results\n\u001b[1;32m    870\u001b[0m     )\n\u001b[1;32m    872\u001b[0m     \u001b[39mreturn\u001b[39;00m results\n\u001b[0;32m--> 874\u001b[0m \u001b[39mself\u001b[39;49m\u001b[39m.\u001b[39;49m_run_search(evaluate_candidates)\n\u001b[1;32m    876\u001b[0m \u001b[39m# multimetric is determined here because in the case of a callable\u001b[39;00m\n\u001b[1;32m    877\u001b[0m \u001b[39m# self.scoring the return type is only known after calling\u001b[39;00m\n\u001b[1;32m    878\u001b[0m first_test_score \u001b[39m=\u001b[39m all_out[\u001b[39m0\u001b[39m][\u001b[39m\"\u001b[39m\u001b[39mtest_scores\u001b[39m\u001b[39m\"\u001b[39m]\n",
      "File \u001b[0;32m~/miniconda3/lib/python3.10/site-packages/sklearn/model_selection/_search.py:1388\u001b[0m, in \u001b[0;36mGridSearchCV._run_search\u001b[0;34m(self, evaluate_candidates)\u001b[0m\n\u001b[1;32m   1386\u001b[0m \u001b[39mdef\u001b[39;00m \u001b[39m_run_search\u001b[39m(\u001b[39mself\u001b[39m, evaluate_candidates):\n\u001b[1;32m   1387\u001b[0m \u001b[39m    \u001b[39m\u001b[39m\"\"\"Search all candidates in param_grid\"\"\"\u001b[39;00m\n\u001b[0;32m-> 1388\u001b[0m     evaluate_candidates(ParameterGrid(\u001b[39mself\u001b[39;49m\u001b[39m.\u001b[39;49mparam_grid))\n",
      "File \u001b[0;32m~/miniconda3/lib/python3.10/site-packages/sklearn/model_selection/_search.py:821\u001b[0m, in \u001b[0;36mBaseSearchCV.fit.<locals>.evaluate_candidates\u001b[0;34m(candidate_params, cv, more_results)\u001b[0m\n\u001b[1;32m    813\u001b[0m \u001b[39mif\u001b[39;00m \u001b[39mself\u001b[39m\u001b[39m.\u001b[39mverbose \u001b[39m>\u001b[39m \u001b[39m0\u001b[39m:\n\u001b[1;32m    814\u001b[0m     \u001b[39mprint\u001b[39m(\n\u001b[1;32m    815\u001b[0m         \u001b[39m\"\u001b[39m\u001b[39mFitting \u001b[39m\u001b[39m{0}\u001b[39;00m\u001b[39m folds for each of \u001b[39m\u001b[39m{1}\u001b[39;00m\u001b[39m candidates,\u001b[39m\u001b[39m\"\u001b[39m\n\u001b[1;32m    816\u001b[0m         \u001b[39m\"\u001b[39m\u001b[39m totalling \u001b[39m\u001b[39m{2}\u001b[39;00m\u001b[39m fits\u001b[39m\u001b[39m\"\u001b[39m\u001b[39m.\u001b[39mformat(\n\u001b[1;32m    817\u001b[0m             n_splits, n_candidates, n_candidates \u001b[39m*\u001b[39m n_splits\n\u001b[1;32m    818\u001b[0m         )\n\u001b[1;32m    819\u001b[0m     )\n\u001b[0;32m--> 821\u001b[0m out \u001b[39m=\u001b[39m parallel(\n\u001b[1;32m    822\u001b[0m     delayed(_fit_and_score)(\n\u001b[1;32m    823\u001b[0m         clone(base_estimator),\n\u001b[1;32m    824\u001b[0m         X,\n\u001b[1;32m    825\u001b[0m         y,\n\u001b[1;32m    826\u001b[0m         train\u001b[39m=\u001b[39;49mtrain,\n\u001b[1;32m    827\u001b[0m         test\u001b[39m=\u001b[39;49mtest,\n\u001b[1;32m    828\u001b[0m         parameters\u001b[39m=\u001b[39;49mparameters,\n\u001b[1;32m    829\u001b[0m         split_progress\u001b[39m=\u001b[39;49m(split_idx, n_splits),\n\u001b[1;32m    830\u001b[0m         candidate_progress\u001b[39m=\u001b[39;49m(cand_idx, n_candidates),\n\u001b[1;32m    831\u001b[0m         \u001b[39m*\u001b[39;49m\u001b[39m*\u001b[39;49mfit_and_score_kwargs,\n\u001b[1;32m    832\u001b[0m     )\n\u001b[1;32m    833\u001b[0m     \u001b[39mfor\u001b[39;49;00m (cand_idx, parameters), (split_idx, (train, test)) \u001b[39min\u001b[39;49;00m product(\n\u001b[1;32m    834\u001b[0m         \u001b[39menumerate\u001b[39;49m(candidate_params), \u001b[39menumerate\u001b[39;49m(cv\u001b[39m.\u001b[39;49msplit(X, y, groups))\n\u001b[1;32m    835\u001b[0m     )\n\u001b[1;32m    836\u001b[0m )\n\u001b[1;32m    838\u001b[0m \u001b[39mif\u001b[39;00m \u001b[39mlen\u001b[39m(out) \u001b[39m<\u001b[39m \u001b[39m1\u001b[39m:\n\u001b[1;32m    839\u001b[0m     \u001b[39mraise\u001b[39;00m \u001b[39mValueError\u001b[39;00m(\n\u001b[1;32m    840\u001b[0m         \u001b[39m\"\u001b[39m\u001b[39mNo fits were performed. \u001b[39m\u001b[39m\"\u001b[39m\n\u001b[1;32m    841\u001b[0m         \u001b[39m\"\u001b[39m\u001b[39mWas the CV iterator empty? \u001b[39m\u001b[39m\"\u001b[39m\n\u001b[1;32m    842\u001b[0m         \u001b[39m\"\u001b[39m\u001b[39mWere there no candidates?\u001b[39m\u001b[39m\"\u001b[39m\n\u001b[1;32m    843\u001b[0m     )\n",
      "File \u001b[0;32m~/miniconda3/lib/python3.10/site-packages/sklearn/utils/parallel.py:63\u001b[0m, in \u001b[0;36mParallel.__call__\u001b[0;34m(self, iterable)\u001b[0m\n\u001b[1;32m     58\u001b[0m config \u001b[39m=\u001b[39m get_config()\n\u001b[1;32m     59\u001b[0m iterable_with_config \u001b[39m=\u001b[39m (\n\u001b[1;32m     60\u001b[0m     (_with_config(delayed_func, config), args, kwargs)\n\u001b[1;32m     61\u001b[0m     \u001b[39mfor\u001b[39;00m delayed_func, args, kwargs \u001b[39min\u001b[39;00m iterable\n\u001b[1;32m     62\u001b[0m )\n\u001b[0;32m---> 63\u001b[0m \u001b[39mreturn\u001b[39;00m \u001b[39msuper\u001b[39;49m()\u001b[39m.\u001b[39;49m\u001b[39m__call__\u001b[39;49m(iterable_with_config)\n",
      "File \u001b[0;32m~/miniconda3/lib/python3.10/site-packages/joblib/parallel.py:1098\u001b[0m, in \u001b[0;36mParallel.__call__\u001b[0;34m(self, iterable)\u001b[0m\n\u001b[1;32m   1095\u001b[0m     \u001b[39mself\u001b[39m\u001b[39m.\u001b[39m_iterating \u001b[39m=\u001b[39m \u001b[39mFalse\u001b[39;00m\n\u001b[1;32m   1097\u001b[0m \u001b[39mwith\u001b[39;00m \u001b[39mself\u001b[39m\u001b[39m.\u001b[39m_backend\u001b[39m.\u001b[39mretrieval_context():\n\u001b[0;32m-> 1098\u001b[0m     \u001b[39mself\u001b[39;49m\u001b[39m.\u001b[39;49mretrieve()\n\u001b[1;32m   1099\u001b[0m \u001b[39m# Make sure that we get a last message telling us we are done\u001b[39;00m\n\u001b[1;32m   1100\u001b[0m elapsed_time \u001b[39m=\u001b[39m time\u001b[39m.\u001b[39mtime() \u001b[39m-\u001b[39m \u001b[39mself\u001b[39m\u001b[39m.\u001b[39m_start_time\n",
      "File \u001b[0;32m~/miniconda3/lib/python3.10/site-packages/joblib/parallel.py:975\u001b[0m, in \u001b[0;36mParallel.retrieve\u001b[0;34m(self)\u001b[0m\n\u001b[1;32m    973\u001b[0m \u001b[39mtry\u001b[39;00m:\n\u001b[1;32m    974\u001b[0m     \u001b[39mif\u001b[39;00m \u001b[39mgetattr\u001b[39m(\u001b[39mself\u001b[39m\u001b[39m.\u001b[39m_backend, \u001b[39m'\u001b[39m\u001b[39msupports_timeout\u001b[39m\u001b[39m'\u001b[39m, \u001b[39mFalse\u001b[39;00m):\n\u001b[0;32m--> 975\u001b[0m         \u001b[39mself\u001b[39m\u001b[39m.\u001b[39m_output\u001b[39m.\u001b[39mextend(job\u001b[39m.\u001b[39;49mget(timeout\u001b[39m=\u001b[39;49m\u001b[39mself\u001b[39;49m\u001b[39m.\u001b[39;49mtimeout))\n\u001b[1;32m    976\u001b[0m     \u001b[39melse\u001b[39;00m:\n\u001b[1;32m    977\u001b[0m         \u001b[39mself\u001b[39m\u001b[39m.\u001b[39m_output\u001b[39m.\u001b[39mextend(job\u001b[39m.\u001b[39mget())\n",
      "File \u001b[0;32m~/miniconda3/lib/python3.10/site-packages/joblib/_parallel_backends.py:567\u001b[0m, in \u001b[0;36mLokyBackend.wrap_future_result\u001b[0;34m(future, timeout)\u001b[0m\n\u001b[1;32m    564\u001b[0m \u001b[39m\u001b[39m\u001b[39m\"\"\"Wrapper for Future.result to implement the same behaviour as\u001b[39;00m\n\u001b[1;32m    565\u001b[0m \u001b[39mAsyncResults.get from multiprocessing.\"\"\"\u001b[39;00m\n\u001b[1;32m    566\u001b[0m \u001b[39mtry\u001b[39;00m:\n\u001b[0;32m--> 567\u001b[0m     \u001b[39mreturn\u001b[39;00m future\u001b[39m.\u001b[39;49mresult(timeout\u001b[39m=\u001b[39;49mtimeout)\n\u001b[1;32m    568\u001b[0m \u001b[39mexcept\u001b[39;00m CfTimeoutError \u001b[39mas\u001b[39;00m e:\n\u001b[1;32m    569\u001b[0m     \u001b[39mraise\u001b[39;00m \u001b[39mTimeoutError\u001b[39;00m \u001b[39mfrom\u001b[39;00m \u001b[39me\u001b[39;00m\n",
      "File \u001b[0;32m~/miniconda3/lib/python3.10/concurrent/futures/_base.py:453\u001b[0m, in \u001b[0;36mFuture.result\u001b[0;34m(self, timeout)\u001b[0m\n\u001b[1;32m    450\u001b[0m \u001b[39melif\u001b[39;00m \u001b[39mself\u001b[39m\u001b[39m.\u001b[39m_state \u001b[39m==\u001b[39m FINISHED:\n\u001b[1;32m    451\u001b[0m     \u001b[39mreturn\u001b[39;00m \u001b[39mself\u001b[39m\u001b[39m.\u001b[39m__get_result()\n\u001b[0;32m--> 453\u001b[0m \u001b[39mself\u001b[39;49m\u001b[39m.\u001b[39;49m_condition\u001b[39m.\u001b[39;49mwait(timeout)\n\u001b[1;32m    455\u001b[0m \u001b[39mif\u001b[39;00m \u001b[39mself\u001b[39m\u001b[39m.\u001b[39m_state \u001b[39min\u001b[39;00m [CANCELLED, CANCELLED_AND_NOTIFIED]:\n\u001b[1;32m    456\u001b[0m     \u001b[39mraise\u001b[39;00m CancelledError()\n",
      "File \u001b[0;32m~/miniconda3/lib/python3.10/threading.py:320\u001b[0m, in \u001b[0;36mCondition.wait\u001b[0;34m(self, timeout)\u001b[0m\n\u001b[1;32m    318\u001b[0m \u001b[39mtry\u001b[39;00m:    \u001b[39m# restore state no matter what (e.g., KeyboardInterrupt)\u001b[39;00m\n\u001b[1;32m    319\u001b[0m     \u001b[39mif\u001b[39;00m timeout \u001b[39mis\u001b[39;00m \u001b[39mNone\u001b[39;00m:\n\u001b[0;32m--> 320\u001b[0m         waiter\u001b[39m.\u001b[39;49macquire()\n\u001b[1;32m    321\u001b[0m         gotit \u001b[39m=\u001b[39m \u001b[39mTrue\u001b[39;00m\n\u001b[1;32m    322\u001b[0m     \u001b[39melse\u001b[39;00m:\n",
      "\u001b[0;31mKeyboardInterrupt\u001b[0m: "
     ]
    }
   ],
   "source": [
    "cv_xgb = []\n",
    "\n",
    "param_xgb = {#\"tree_method\": [\"gpu_hist\"], \n",
    "             #\"gpu_id\": [0],\n",
    "             \"learning_rate\": [0.01, 0.1, 0.2],\n",
    "             \"n_estimators\": [500, 700, 900, 1100],\n",
    "             \"gamma\": [0, 0.5, 1, 1.5],\n",
    "             \"max_depth\": [6, 8, 10, 12],\n",
    "             \"subsample\": [0.5, 0.7, 0.9],\n",
    "             \"reg_lambda\": [1.1, 1.3, 1.5, 1.9, 2.5],\n",
    "             #\"sampling_method\": [\"uniform\", \"gradient_based\"] \n",
    "             }\n",
    "\n",
    "for sector in sectors:\n",
    "    data = store[store[\"업종_명\"] == sector]\n",
    "    X = data[[\"총_생활인구_수\", \"집객시설_수\", \"점포_수\", \"아파트_평균_면적\", \"아파트_평균_시가\", \"영업_개월_평균\", \"폐업_개월_평균\", \"매출_건수\"]]\n",
    "    y = data[\"매출_금액\"]\n",
    "    \n",
    "    X_train, X_test, y_train, y_test = train_test_split(X, y, test_size=0.3)\n",
    "    \n",
    "    gscv_xgb = GridSearchCV (estimator = xgb_model, param_grid = param_xgb, scoring =\"r2\", n_jobs = 5, cv = 3, verbose = 1)\n",
    "    gscv_xgb.fit(X_train, y_train)\n",
    "\n",
    "    print(\"=\" * 30)\n",
    "    print(f\"업종: {sector}\")\n",
    "    print(f\"XGB's best parameters: , {gscv_xgb.best_estimator_}\")\n",
    "    print(f\"XGB 예측 정확도: {gscv_xgb.best_score_:>.4f}\")\n",
    "    cv_xgb.append(gscv_xgb)"
   ]
  },
  {
   "cell_type": "code",
   "execution_count": 12,
   "metadata": {},
   "outputs": [],
   "source": [
    "onehot = pd.get_dummies(store, columns = ['업종_명'])"
   ]
  },
  {
   "cell_type": "code",
   "execution_count": 13,
   "metadata": {},
   "outputs": [
    {
     "data": {
      "text/plain": [
       "Index(['상권_코드_명', '총_생활인구_수', '집객시설_수', '점포_수', '아파트_평균_면적', '아파트_평균_시가',\n",
       "       '영업_개월_평균', '폐업_개월_평균', '매출_건수', '매출_금액', '업종_명_가전제품_및_통신기기_도소매업',\n",
       "       '업종_명_개인_서비스업', '업종_명_교육_및_사업자원_서비스업', '업종_명_기타_도소매업', '업종_명_기타_서비스업',\n",
       "       '업종_명_부동산_및_임대업', '업종_명_생활용품_도소매업', '업종_명_수리업', '업종_명_숙박업',\n",
       "       '업종_명_스포츠_및_오락_서비스업', '업종_명_식료품_도소매업', '업종_명_음식점_및_주점업', '업종_명_제조업',\n",
       "       '업종_명_중고상품_도소매업'],\n",
       "      dtype='object')"
      ]
     },
     "execution_count": 13,
     "metadata": {},
     "output_type": "execute_result"
    }
   ],
   "source": [
    "onehot.columns"
   ]
  },
  {
   "cell_type": "code",
   "execution_count": 14,
   "metadata": {},
   "outputs": [],
   "source": [
    "X = onehot[[\"총_생활인구_수\", \"집객시설_수\", \"점포_수\", \"아파트_평균_면적\", \"아파트_평균_시가\", \"영업_개월_평균\", \"폐업_개월_평균\", \"매출_건수\", '업종_명_가전제품_및_통신기기_도소매업',\n",
    "       '업종_명_개인_서비스업', '업종_명_교육_및_사업자원_서비스업', '업종_명_기타_도소매업', '업종_명_기타_서비스업',\n",
    "       '업종_명_부동산_및_임대업', '업종_명_생활용품_도소매업', '업종_명_수리업', '업종_명_숙박업',\n",
    "       '업종_명_스포츠_및_오락_서비스업', '업종_명_식료품_도소매업', '업종_명_음식점_및_주점업', '업종_명_제조업',\n",
    "       '업종_명_중고상품_도소매업']]\n",
    "y = onehot[\"매출_금액\"]"
   ]
  },
  {
   "cell_type": "code",
   "execution_count": null,
   "metadata": {},
   "outputs": [
    {
     "name": "stdout",
     "output_type": "stream",
     "text": [
      "Fitting 3 folds for each of 2880 candidates, totalling 8640 fits\n"
     ]
    },
    {
     "ename": "KeyboardInterrupt",
     "evalue": "",
     "output_type": "error",
     "traceback": [
      "\u001b[0;31m---------------------------------------------------------------------------\u001b[0m",
      "\u001b[0;31mKeyboardInterrupt\u001b[0m                         Traceback (most recent call last)",
      "Cell \u001b[0;32mIn[17], line 21\u001b[0m\n\u001b[1;32m     18\u001b[0m start \u001b[39m=\u001b[39m time\u001b[39m.\u001b[39mtime()\n\u001b[1;32m     20\u001b[0m gscv_xgb \u001b[39m=\u001b[39m GridSearchCV (estimator \u001b[39m=\u001b[39m xgb_model, param_grid \u001b[39m=\u001b[39m param_xgb, scoring \u001b[39m=\u001b[39m\u001b[39m\"\u001b[39m\u001b[39mr2\u001b[39m\u001b[39m\"\u001b[39m, n_jobs \u001b[39m=\u001b[39m \u001b[39m5\u001b[39m, cv \u001b[39m=\u001b[39m \u001b[39m3\u001b[39m, verbose \u001b[39m=\u001b[39m \u001b[39m1\u001b[39m)\n\u001b[0;32m---> 21\u001b[0m gscv_xgb\u001b[39m.\u001b[39;49mfit(X_train, y_train)\n\u001b[1;32m     23\u001b[0m end \u001b[39m=\u001b[39m time\u001b[39m.\u001b[39mtime()\n\u001b[1;32m     25\u001b[0m \u001b[39mprint\u001b[39m(\u001b[39mf\u001b[39m\u001b[39m\"\u001b[39m\u001b[39mXGB\u001b[39m\u001b[39m'\u001b[39m\u001b[39ms best parameters: \u001b[39m\u001b[39m{\u001b[39;00mgscv_xgb\u001b[39m.\u001b[39mbest_estimator_\u001b[39m}\u001b[39;00m\u001b[39m\"\u001b[39m)\n",
      "File \u001b[0;32m~/miniconda3/lib/python3.10/site-packages/sklearn/model_selection/_search.py:874\u001b[0m, in \u001b[0;36mBaseSearchCV.fit\u001b[0;34m(self, X, y, groups, **fit_params)\u001b[0m\n\u001b[1;32m    868\u001b[0m     results \u001b[39m=\u001b[39m \u001b[39mself\u001b[39m\u001b[39m.\u001b[39m_format_results(\n\u001b[1;32m    869\u001b[0m         all_candidate_params, n_splits, all_out, all_more_results\n\u001b[1;32m    870\u001b[0m     )\n\u001b[1;32m    872\u001b[0m     \u001b[39mreturn\u001b[39;00m results\n\u001b[0;32m--> 874\u001b[0m \u001b[39mself\u001b[39;49m\u001b[39m.\u001b[39;49m_run_search(evaluate_candidates)\n\u001b[1;32m    876\u001b[0m \u001b[39m# multimetric is determined here because in the case of a callable\u001b[39;00m\n\u001b[1;32m    877\u001b[0m \u001b[39m# self.scoring the return type is only known after calling\u001b[39;00m\n\u001b[1;32m    878\u001b[0m first_test_score \u001b[39m=\u001b[39m all_out[\u001b[39m0\u001b[39m][\u001b[39m\"\u001b[39m\u001b[39mtest_scores\u001b[39m\u001b[39m\"\u001b[39m]\n",
      "File \u001b[0;32m~/miniconda3/lib/python3.10/site-packages/sklearn/model_selection/_search.py:1388\u001b[0m, in \u001b[0;36mGridSearchCV._run_search\u001b[0;34m(self, evaluate_candidates)\u001b[0m\n\u001b[1;32m   1386\u001b[0m \u001b[39mdef\u001b[39;00m \u001b[39m_run_search\u001b[39m(\u001b[39mself\u001b[39m, evaluate_candidates):\n\u001b[1;32m   1387\u001b[0m \u001b[39m    \u001b[39m\u001b[39m\"\"\"Search all candidates in param_grid\"\"\"\u001b[39;00m\n\u001b[0;32m-> 1388\u001b[0m     evaluate_candidates(ParameterGrid(\u001b[39mself\u001b[39;49m\u001b[39m.\u001b[39;49mparam_grid))\n",
      "File \u001b[0;32m~/miniconda3/lib/python3.10/site-packages/sklearn/model_selection/_search.py:821\u001b[0m, in \u001b[0;36mBaseSearchCV.fit.<locals>.evaluate_candidates\u001b[0;34m(candidate_params, cv, more_results)\u001b[0m\n\u001b[1;32m    813\u001b[0m \u001b[39mif\u001b[39;00m \u001b[39mself\u001b[39m\u001b[39m.\u001b[39mverbose \u001b[39m>\u001b[39m \u001b[39m0\u001b[39m:\n\u001b[1;32m    814\u001b[0m     \u001b[39mprint\u001b[39m(\n\u001b[1;32m    815\u001b[0m         \u001b[39m\"\u001b[39m\u001b[39mFitting \u001b[39m\u001b[39m{0}\u001b[39;00m\u001b[39m folds for each of \u001b[39m\u001b[39m{1}\u001b[39;00m\u001b[39m candidates,\u001b[39m\u001b[39m\"\u001b[39m\n\u001b[1;32m    816\u001b[0m         \u001b[39m\"\u001b[39m\u001b[39m totalling \u001b[39m\u001b[39m{2}\u001b[39;00m\u001b[39m fits\u001b[39m\u001b[39m\"\u001b[39m\u001b[39m.\u001b[39mformat(\n\u001b[1;32m    817\u001b[0m             n_splits, n_candidates, n_candidates \u001b[39m*\u001b[39m n_splits\n\u001b[1;32m    818\u001b[0m         )\n\u001b[1;32m    819\u001b[0m     )\n\u001b[0;32m--> 821\u001b[0m out \u001b[39m=\u001b[39m parallel(\n\u001b[1;32m    822\u001b[0m     delayed(_fit_and_score)(\n\u001b[1;32m    823\u001b[0m         clone(base_estimator),\n\u001b[1;32m    824\u001b[0m         X,\n\u001b[1;32m    825\u001b[0m         y,\n\u001b[1;32m    826\u001b[0m         train\u001b[39m=\u001b[39;49mtrain,\n\u001b[1;32m    827\u001b[0m         test\u001b[39m=\u001b[39;49mtest,\n\u001b[1;32m    828\u001b[0m         parameters\u001b[39m=\u001b[39;49mparameters,\n\u001b[1;32m    829\u001b[0m         split_progress\u001b[39m=\u001b[39;49m(split_idx, n_splits),\n\u001b[1;32m    830\u001b[0m         candidate_progress\u001b[39m=\u001b[39;49m(cand_idx, n_candidates),\n\u001b[1;32m    831\u001b[0m         \u001b[39m*\u001b[39;49m\u001b[39m*\u001b[39;49mfit_and_score_kwargs,\n\u001b[1;32m    832\u001b[0m     )\n\u001b[1;32m    833\u001b[0m     \u001b[39mfor\u001b[39;49;00m (cand_idx, parameters), (split_idx, (train, test)) \u001b[39min\u001b[39;49;00m product(\n\u001b[1;32m    834\u001b[0m         \u001b[39menumerate\u001b[39;49m(candidate_params), \u001b[39menumerate\u001b[39;49m(cv\u001b[39m.\u001b[39;49msplit(X, y, groups))\n\u001b[1;32m    835\u001b[0m     )\n\u001b[1;32m    836\u001b[0m )\n\u001b[1;32m    838\u001b[0m \u001b[39mif\u001b[39;00m \u001b[39mlen\u001b[39m(out) \u001b[39m<\u001b[39m \u001b[39m1\u001b[39m:\n\u001b[1;32m    839\u001b[0m     \u001b[39mraise\u001b[39;00m \u001b[39mValueError\u001b[39;00m(\n\u001b[1;32m    840\u001b[0m         \u001b[39m\"\u001b[39m\u001b[39mNo fits were performed. \u001b[39m\u001b[39m\"\u001b[39m\n\u001b[1;32m    841\u001b[0m         \u001b[39m\"\u001b[39m\u001b[39mWas the CV iterator empty? \u001b[39m\u001b[39m\"\u001b[39m\n\u001b[1;32m    842\u001b[0m         \u001b[39m\"\u001b[39m\u001b[39mWere there no candidates?\u001b[39m\u001b[39m\"\u001b[39m\n\u001b[1;32m    843\u001b[0m     )\n",
      "File \u001b[0;32m~/miniconda3/lib/python3.10/site-packages/sklearn/utils/parallel.py:63\u001b[0m, in \u001b[0;36mParallel.__call__\u001b[0;34m(self, iterable)\u001b[0m\n\u001b[1;32m     58\u001b[0m config \u001b[39m=\u001b[39m get_config()\n\u001b[1;32m     59\u001b[0m iterable_with_config \u001b[39m=\u001b[39m (\n\u001b[1;32m     60\u001b[0m     (_with_config(delayed_func, config), args, kwargs)\n\u001b[1;32m     61\u001b[0m     \u001b[39mfor\u001b[39;00m delayed_func, args, kwargs \u001b[39min\u001b[39;00m iterable\n\u001b[1;32m     62\u001b[0m )\n\u001b[0;32m---> 63\u001b[0m \u001b[39mreturn\u001b[39;00m \u001b[39msuper\u001b[39;49m()\u001b[39m.\u001b[39;49m\u001b[39m__call__\u001b[39;49m(iterable_with_config)\n",
      "File \u001b[0;32m~/miniconda3/lib/python3.10/site-packages/joblib/parallel.py:1098\u001b[0m, in \u001b[0;36mParallel.__call__\u001b[0;34m(self, iterable)\u001b[0m\n\u001b[1;32m   1095\u001b[0m     \u001b[39mself\u001b[39m\u001b[39m.\u001b[39m_iterating \u001b[39m=\u001b[39m \u001b[39mFalse\u001b[39;00m\n\u001b[1;32m   1097\u001b[0m \u001b[39mwith\u001b[39;00m \u001b[39mself\u001b[39m\u001b[39m.\u001b[39m_backend\u001b[39m.\u001b[39mretrieval_context():\n\u001b[0;32m-> 1098\u001b[0m     \u001b[39mself\u001b[39;49m\u001b[39m.\u001b[39;49mretrieve()\n\u001b[1;32m   1099\u001b[0m \u001b[39m# Make sure that we get a last message telling us we are done\u001b[39;00m\n\u001b[1;32m   1100\u001b[0m elapsed_time \u001b[39m=\u001b[39m time\u001b[39m.\u001b[39mtime() \u001b[39m-\u001b[39m \u001b[39mself\u001b[39m\u001b[39m.\u001b[39m_start_time\n",
      "File \u001b[0;32m~/miniconda3/lib/python3.10/site-packages/joblib/parallel.py:975\u001b[0m, in \u001b[0;36mParallel.retrieve\u001b[0;34m(self)\u001b[0m\n\u001b[1;32m    973\u001b[0m \u001b[39mtry\u001b[39;00m:\n\u001b[1;32m    974\u001b[0m     \u001b[39mif\u001b[39;00m \u001b[39mgetattr\u001b[39m(\u001b[39mself\u001b[39m\u001b[39m.\u001b[39m_backend, \u001b[39m'\u001b[39m\u001b[39msupports_timeout\u001b[39m\u001b[39m'\u001b[39m, \u001b[39mFalse\u001b[39;00m):\n\u001b[0;32m--> 975\u001b[0m         \u001b[39mself\u001b[39m\u001b[39m.\u001b[39m_output\u001b[39m.\u001b[39mextend(job\u001b[39m.\u001b[39;49mget(timeout\u001b[39m=\u001b[39;49m\u001b[39mself\u001b[39;49m\u001b[39m.\u001b[39;49mtimeout))\n\u001b[1;32m    976\u001b[0m     \u001b[39melse\u001b[39;00m:\n\u001b[1;32m    977\u001b[0m         \u001b[39mself\u001b[39m\u001b[39m.\u001b[39m_output\u001b[39m.\u001b[39mextend(job\u001b[39m.\u001b[39mget())\n",
      "File \u001b[0;32m~/miniconda3/lib/python3.10/site-packages/joblib/_parallel_backends.py:567\u001b[0m, in \u001b[0;36mLokyBackend.wrap_future_result\u001b[0;34m(future, timeout)\u001b[0m\n\u001b[1;32m    564\u001b[0m \u001b[39m\u001b[39m\u001b[39m\"\"\"Wrapper for Future.result to implement the same behaviour as\u001b[39;00m\n\u001b[1;32m    565\u001b[0m \u001b[39mAsyncResults.get from multiprocessing.\"\"\"\u001b[39;00m\n\u001b[1;32m    566\u001b[0m \u001b[39mtry\u001b[39;00m:\n\u001b[0;32m--> 567\u001b[0m     \u001b[39mreturn\u001b[39;00m future\u001b[39m.\u001b[39;49mresult(timeout\u001b[39m=\u001b[39;49mtimeout)\n\u001b[1;32m    568\u001b[0m \u001b[39mexcept\u001b[39;00m CfTimeoutError \u001b[39mas\u001b[39;00m e:\n\u001b[1;32m    569\u001b[0m     \u001b[39mraise\u001b[39;00m \u001b[39mTimeoutError\u001b[39;00m \u001b[39mfrom\u001b[39;00m \u001b[39me\u001b[39;00m\n",
      "File \u001b[0;32m~/miniconda3/lib/python3.10/concurrent/futures/_base.py:453\u001b[0m, in \u001b[0;36mFuture.result\u001b[0;34m(self, timeout)\u001b[0m\n\u001b[1;32m    450\u001b[0m \u001b[39melif\u001b[39;00m \u001b[39mself\u001b[39m\u001b[39m.\u001b[39m_state \u001b[39m==\u001b[39m FINISHED:\n\u001b[1;32m    451\u001b[0m     \u001b[39mreturn\u001b[39;00m \u001b[39mself\u001b[39m\u001b[39m.\u001b[39m__get_result()\n\u001b[0;32m--> 453\u001b[0m \u001b[39mself\u001b[39;49m\u001b[39m.\u001b[39;49m_condition\u001b[39m.\u001b[39;49mwait(timeout)\n\u001b[1;32m    455\u001b[0m \u001b[39mif\u001b[39;00m \u001b[39mself\u001b[39m\u001b[39m.\u001b[39m_state \u001b[39min\u001b[39;00m [CANCELLED, CANCELLED_AND_NOTIFIED]:\n\u001b[1;32m    456\u001b[0m     \u001b[39mraise\u001b[39;00m CancelledError()\n",
      "File \u001b[0;32m~/miniconda3/lib/python3.10/threading.py:320\u001b[0m, in \u001b[0;36mCondition.wait\u001b[0;34m(self, timeout)\u001b[0m\n\u001b[1;32m    318\u001b[0m \u001b[39mtry\u001b[39;00m:    \u001b[39m# restore state no matter what (e.g., KeyboardInterrupt)\u001b[39;00m\n\u001b[1;32m    319\u001b[0m     \u001b[39mif\u001b[39;00m timeout \u001b[39mis\u001b[39;00m \u001b[39mNone\u001b[39;00m:\n\u001b[0;32m--> 320\u001b[0m         waiter\u001b[39m.\u001b[39;49macquire()\n\u001b[1;32m    321\u001b[0m         gotit \u001b[39m=\u001b[39m \u001b[39mTrue\u001b[39;00m\n\u001b[1;32m    322\u001b[0m     \u001b[39melse\u001b[39;00m:\n",
      "\u001b[0;31mKeyboardInterrupt\u001b[0m: "
     ]
    }
   ],
   "source": [
    "import time\n",
    "\n",
    "X_train, X_test, y_train, y_test = train_test_split(X, y, test_size=0.3)\n",
    "    \n",
    "xgb_model = xgboost.XGBRegressor()    \n",
    "\n",
    "param_xgb = {#\"tree_method\": [\"gpu_hist\"], \n",
    "             #\"gpu_id\": [0],\n",
    "             \"learning_rate\": [0.01, 0.1, 0.2],\n",
    "             \"n_estimators\": [500, 700, 900, 1100],\n",
    "             \"gamma\": [0, 0.5, 1, 1.5],\n",
    "             \"max_depth\": [6, 8, 10, 12],\n",
    "             \"subsample\": [0.5, 0.7, 0.9],\n",
    "             \"reg_lambda\": [1.1, 1.3, 1.5, 1.9, 2.5],\n",
    "             #\"sampling_method\": [\"uniform\", \"gradient_based\"] \n",
    "             }\n",
    "\n",
    "start = time.time()\n",
    "\n",
    "gscv_xgb = GridSearchCV (estimator = xgb_model, param_grid = param_xgb, scoring =\"r2\", n_jobs = 5, cv = 3, verbose = 1)\n",
    "gscv_xgb.fit(X_train, y_train)\n",
    "\n",
    "end = time.time()\n",
    "\n",
    "print(f\"XGB's best parameters: {gscv_xgb.best_estimator_}\")\n",
    "print(f\"XGB 예측 정확도: {gscv_xgb.best_score_:>.4f}\")\n",
    "print(f\"training time: {end - start}\")"
   ]
  },
  {
   "cell_type": "code",
   "execution_count": null,
   "metadata": {},
   "outputs": [],
   "source": []
  }
 ],
 "metadata": {
  "kernelspec": {
   "display_name": "base",
   "language": "python",
   "name": "python3"
  },
  "language_info": {
   "codemirror_mode": {
    "name": "ipython",
    "version": 3
   },
   "file_extension": ".py",
   "mimetype": "text/x-python",
   "name": "python",
   "nbconvert_exporter": "python",
   "pygments_lexer": "ipython3",
   "version": "3.10.8"
  },
  "orig_nbformat": 4
 },
 "nbformat": 4,
 "nbformat_minor": 2
}
