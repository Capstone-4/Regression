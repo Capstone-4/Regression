{
 "cells": [
  {
   "cell_type": "code",
   "execution_count": 1,
   "metadata": {
    "pycharm": {
     "name": "#%%\n"
    }
   },
   "outputs": [],
   "source": [
    "import pandas as pd\n",
    "import matplotlib.pyplot as plt\n",
    "import numpy as np\n",
    "from sklearn.svm import SVR\n",
    "from sklearn.metrics import mean_squared_error, mean_absolute_error, r2_score\n",
    "import statsmodels.api as sm"
   ]
  },
  {
   "cell_type": "code",
   "execution_count": 2,
   "metadata": {
    "pycharm": {
     "name": "#%%\n"
    }
   },
   "outputs": [
    {
     "data": {
      "text/plain": "   기준_년_코드 상권_구분_코드 상권_구분_코드_명    상권_코드 상권_코드_명   총_생활인구_수  집객시설_수  아파트_평균_면적  \\\n0     2017        A       골목상권  2110001  이북5도청사  139405.75    22.5      124.0   \n1     2017        A       골목상권  2110001  이북5도청사  139405.75    22.5      124.0   \n2     2017        A       골목상권  2110001  이북5도청사  139405.75    22.5      124.0   \n3     2017        A       골목상권  2110001  이북5도청사  139405.75    22.5      124.0   \n4     2017        A       골목상권  2110001  이북5도청사  139405.75    22.5      124.0   \n\n     아파트_평균_시가 상권_변화_지표  ... 운영_영업_개월_평균  폐업_영업_개월_평균  서울_운영_영업_개월_평균  \\\n0  376996219.5       LH  ...       83.75        60.25           98.75   \n1  376996219.5       LH  ...       83.75        60.25           98.75   \n2  376996219.5       LH  ...       83.75        60.25           98.75   \n3  376996219.5       LH  ...       83.75        60.25           98.75   \n4  376996219.5       LH  ...       83.75        60.25           98.75   \n\n   서울_폐업_영업_개월_평균              구분 점포_수         매출_금액  매출_건수  엑스좌표_값  와이좌표_값  \n0           51.25         개인_서비스업  116  3.230693e+07    398  196193  456641  \n1           51.25  교육_및_사업자원_서비스업  128  2.660860e+07    166  196193  456641  \n2           51.25         기타_도소매업   98  2.564806e+06     96  196193  456641  \n3           51.25       생활용품_도소매업  151  3.070350e+07    358  196193  456641  \n4           51.25             수리업   24  1.999051e+08    874  196193  456641  \n\n[5 rows x 21 columns]",
      "text/html": "<div>\n<style scoped>\n    .dataframe tbody tr th:only-of-type {\n        vertical-align: middle;\n    }\n\n    .dataframe tbody tr th {\n        vertical-align: top;\n    }\n\n    .dataframe thead th {\n        text-align: right;\n    }\n</style>\n<table border=\"1\" class=\"dataframe\">\n  <thead>\n    <tr style=\"text-align: right;\">\n      <th></th>\n      <th>기준_년_코드</th>\n      <th>상권_구분_코드</th>\n      <th>상권_구분_코드_명</th>\n      <th>상권_코드</th>\n      <th>상권_코드_명</th>\n      <th>총_생활인구_수</th>\n      <th>집객시설_수</th>\n      <th>아파트_평균_면적</th>\n      <th>아파트_평균_시가</th>\n      <th>상권_변화_지표</th>\n      <th>...</th>\n      <th>운영_영업_개월_평균</th>\n      <th>폐업_영업_개월_평균</th>\n      <th>서울_운영_영업_개월_평균</th>\n      <th>서울_폐업_영업_개월_평균</th>\n      <th>구분</th>\n      <th>점포_수</th>\n      <th>매출_금액</th>\n      <th>매출_건수</th>\n      <th>엑스좌표_값</th>\n      <th>와이좌표_값</th>\n    </tr>\n  </thead>\n  <tbody>\n    <tr>\n      <th>0</th>\n      <td>2017</td>\n      <td>A</td>\n      <td>골목상권</td>\n      <td>2110001</td>\n      <td>이북5도청사</td>\n      <td>139405.75</td>\n      <td>22.5</td>\n      <td>124.0</td>\n      <td>376996219.5</td>\n      <td>LH</td>\n      <td>...</td>\n      <td>83.75</td>\n      <td>60.25</td>\n      <td>98.75</td>\n      <td>51.25</td>\n      <td>개인_서비스업</td>\n      <td>116</td>\n      <td>3.230693e+07</td>\n      <td>398</td>\n      <td>196193</td>\n      <td>456641</td>\n    </tr>\n    <tr>\n      <th>1</th>\n      <td>2017</td>\n      <td>A</td>\n      <td>골목상권</td>\n      <td>2110001</td>\n      <td>이북5도청사</td>\n      <td>139405.75</td>\n      <td>22.5</td>\n      <td>124.0</td>\n      <td>376996219.5</td>\n      <td>LH</td>\n      <td>...</td>\n      <td>83.75</td>\n      <td>60.25</td>\n      <td>98.75</td>\n      <td>51.25</td>\n      <td>교육_및_사업자원_서비스업</td>\n      <td>128</td>\n      <td>2.660860e+07</td>\n      <td>166</td>\n      <td>196193</td>\n      <td>456641</td>\n    </tr>\n    <tr>\n      <th>2</th>\n      <td>2017</td>\n      <td>A</td>\n      <td>골목상권</td>\n      <td>2110001</td>\n      <td>이북5도청사</td>\n      <td>139405.75</td>\n      <td>22.5</td>\n      <td>124.0</td>\n      <td>376996219.5</td>\n      <td>LH</td>\n      <td>...</td>\n      <td>83.75</td>\n      <td>60.25</td>\n      <td>98.75</td>\n      <td>51.25</td>\n      <td>기타_도소매업</td>\n      <td>98</td>\n      <td>2.564806e+06</td>\n      <td>96</td>\n      <td>196193</td>\n      <td>456641</td>\n    </tr>\n    <tr>\n      <th>3</th>\n      <td>2017</td>\n      <td>A</td>\n      <td>골목상권</td>\n      <td>2110001</td>\n      <td>이북5도청사</td>\n      <td>139405.75</td>\n      <td>22.5</td>\n      <td>124.0</td>\n      <td>376996219.5</td>\n      <td>LH</td>\n      <td>...</td>\n      <td>83.75</td>\n      <td>60.25</td>\n      <td>98.75</td>\n      <td>51.25</td>\n      <td>생활용품_도소매업</td>\n      <td>151</td>\n      <td>3.070350e+07</td>\n      <td>358</td>\n      <td>196193</td>\n      <td>456641</td>\n    </tr>\n    <tr>\n      <th>4</th>\n      <td>2017</td>\n      <td>A</td>\n      <td>골목상권</td>\n      <td>2110001</td>\n      <td>이북5도청사</td>\n      <td>139405.75</td>\n      <td>22.5</td>\n      <td>124.0</td>\n      <td>376996219.5</td>\n      <td>LH</td>\n      <td>...</td>\n      <td>83.75</td>\n      <td>60.25</td>\n      <td>98.75</td>\n      <td>51.25</td>\n      <td>수리업</td>\n      <td>24</td>\n      <td>1.999051e+08</td>\n      <td>874</td>\n      <td>196193</td>\n      <td>456641</td>\n    </tr>\n  </tbody>\n</table>\n<p>5 rows × 21 columns</p>\n</div>"
     },
     "execution_count": 2,
     "metadata": {},
     "output_type": "execute_result"
    }
   ],
   "source": [
    "store = pd.read_csv(\"data/commercial_with_xy.csv\",encoding = \"UTF-8\")\n",
    "store.head()"
   ]
  },
  {
   "cell_type": "code",
   "execution_count": 3,
   "metadata": {
    "pycharm": {
     "name": "#%%\n"
    }
   },
   "outputs": [
    {
     "data": {
      "text/plain": "Index(['기준_년_코드', '상권_구분_코드', '상권_구분_코드_명', '상권_코드', '상권_코드_명', '총_생활인구_수',\n       '집객시설_수', '아파트_평균_면적', '아파트_평균_시가', '상권_변화_지표', '상권_변화_지표_명',\n       '운영_영업_개월_평균', '폐업_영업_개월_평균', '서울_운영_영업_개월_평균', '서울_폐업_영업_개월_평균', '구분',\n       '점포_수', '매출_금액', '매출_건수', '엑스좌표_값', '와이좌표_값'],\n      dtype='object')"
     },
     "execution_count": 3,
     "metadata": {},
     "output_type": "execute_result"
    }
   ],
   "source": [
    "store.columns"
   ]
  },
  {
   "cell_type": "code",
   "execution_count": 4,
   "metadata": {
    "pycharm": {
     "name": "#%%\n"
    }
   },
   "outputs": [],
   "source": [
    "store = store[['상권_코드_명','총_생활인구_수','집객시설_수','점포_수','아파트_평균_면적','아파트_평균_시가','서울_운영_영업_개월_평균','서울_폐업_영업_개월_평균','매출_건수', \"매출_금액\",'구분']]"
   ]
  },
  {
   "cell_type": "code",
   "execution_count": 5,
   "metadata": {
    "pycharm": {
     "name": "#%%\n"
    }
   },
   "outputs": [],
   "source": [
    "store = store.drop_duplicates()"
   ]
  },
  {
   "attachments": {},
   "cell_type": "markdown",
   "metadata": {
    "pycharm": {
     "name": "#%% md\n"
    }
   },
   "source": [
    "연도별값이 중요하지 않아서 연도 column 제외 + 그로인해 생기는 duplicate되는 값 제거"
   ]
  },
  {
   "cell_type": "code",
   "execution_count": 6,
   "metadata": {
    "pycharm": {
     "name": "#%%\n"
    }
   },
   "outputs": [
    {
     "data": {
      "text/plain": "            상권_코드_명   총_생활인구_수  집객시설_수  점포_수  아파트_평균_면적    아파트_평균_시가  \\\n0            이북5도청사  139405.75    22.5   116      124.0  376996219.5   \n1            이북5도청사  139405.75    22.5   128      124.0  376996219.5   \n2            이북5도청사  139405.75    22.5    98      124.0  376996219.5   \n3            이북5도청사  139405.75    22.5   151      124.0  376996219.5   \n4            이북5도청사  139405.75    22.5    24      124.0  376996219.5   \n...             ...        ...     ...   ...        ...          ...   \n105310  중부시장(신중부시장)  927336.00    18.0    17       15.0  148636943.0   \n105311  중부시장(신중부시장)  927336.00    18.0    25       15.0  148636943.0   \n105312  중부시장(신중부시장)  927336.00    18.0  1663       15.0  148636943.0   \n105313  중부시장(신중부시장)  927336.00    18.0   243       15.0  148636943.0   \n105314  중부시장(신중부시장)  927336.00    18.0   251       15.0  148636943.0   \n\n        서울_운영_영업_개월_평균  서울_폐업_영업_개월_평균   매출_건수         매출_금액              구분  \n0                98.75           51.25     398  3.230693e+07         개인_서비스업  \n1                98.75           51.25     166  2.660860e+07  교육_및_사업자원_서비스업  \n2                98.75           51.25      96  2.564806e+06         기타_도소매업  \n3                98.75           51.25     358  3.070350e+07       생활용품_도소매업  \n4                98.75           51.25     874  1.999051e+08             수리업  \n...                ...             ...     ...           ...             ...  \n105310          121.25           55.50     308  3.510748e+07             숙박업  \n105311          121.25           55.50     375  1.061767e+07   스포츠_및_오락_서비스업  \n105312          121.25           55.50  147094  7.184864e+09        식료품_도소매업  \n105313          121.25           55.50   19070  5.655092e+08       음식점_및_주점업  \n105314          121.25           55.50   51512  3.202202e+09             제조업  \n\n[105198 rows x 11 columns]",
      "text/html": "<div>\n<style scoped>\n    .dataframe tbody tr th:only-of-type {\n        vertical-align: middle;\n    }\n\n    .dataframe tbody tr th {\n        vertical-align: top;\n    }\n\n    .dataframe thead th {\n        text-align: right;\n    }\n</style>\n<table border=\"1\" class=\"dataframe\">\n  <thead>\n    <tr style=\"text-align: right;\">\n      <th></th>\n      <th>상권_코드_명</th>\n      <th>총_생활인구_수</th>\n      <th>집객시설_수</th>\n      <th>점포_수</th>\n      <th>아파트_평균_면적</th>\n      <th>아파트_평균_시가</th>\n      <th>서울_운영_영업_개월_평균</th>\n      <th>서울_폐업_영업_개월_평균</th>\n      <th>매출_건수</th>\n      <th>매출_금액</th>\n      <th>구분</th>\n    </tr>\n  </thead>\n  <tbody>\n    <tr>\n      <th>0</th>\n      <td>이북5도청사</td>\n      <td>139405.75</td>\n      <td>22.5</td>\n      <td>116</td>\n      <td>124.0</td>\n      <td>376996219.5</td>\n      <td>98.75</td>\n      <td>51.25</td>\n      <td>398</td>\n      <td>3.230693e+07</td>\n      <td>개인_서비스업</td>\n    </tr>\n    <tr>\n      <th>1</th>\n      <td>이북5도청사</td>\n      <td>139405.75</td>\n      <td>22.5</td>\n      <td>128</td>\n      <td>124.0</td>\n      <td>376996219.5</td>\n      <td>98.75</td>\n      <td>51.25</td>\n      <td>166</td>\n      <td>2.660860e+07</td>\n      <td>교육_및_사업자원_서비스업</td>\n    </tr>\n    <tr>\n      <th>2</th>\n      <td>이북5도청사</td>\n      <td>139405.75</td>\n      <td>22.5</td>\n      <td>98</td>\n      <td>124.0</td>\n      <td>376996219.5</td>\n      <td>98.75</td>\n      <td>51.25</td>\n      <td>96</td>\n      <td>2.564806e+06</td>\n      <td>기타_도소매업</td>\n    </tr>\n    <tr>\n      <th>3</th>\n      <td>이북5도청사</td>\n      <td>139405.75</td>\n      <td>22.5</td>\n      <td>151</td>\n      <td>124.0</td>\n      <td>376996219.5</td>\n      <td>98.75</td>\n      <td>51.25</td>\n      <td>358</td>\n      <td>3.070350e+07</td>\n      <td>생활용품_도소매업</td>\n    </tr>\n    <tr>\n      <th>4</th>\n      <td>이북5도청사</td>\n      <td>139405.75</td>\n      <td>22.5</td>\n      <td>24</td>\n      <td>124.0</td>\n      <td>376996219.5</td>\n      <td>98.75</td>\n      <td>51.25</td>\n      <td>874</td>\n      <td>1.999051e+08</td>\n      <td>수리업</td>\n    </tr>\n    <tr>\n      <th>...</th>\n      <td>...</td>\n      <td>...</td>\n      <td>...</td>\n      <td>...</td>\n      <td>...</td>\n      <td>...</td>\n      <td>...</td>\n      <td>...</td>\n      <td>...</td>\n      <td>...</td>\n      <td>...</td>\n    </tr>\n    <tr>\n      <th>105310</th>\n      <td>중부시장(신중부시장)</td>\n      <td>927336.00</td>\n      <td>18.0</td>\n      <td>17</td>\n      <td>15.0</td>\n      <td>148636943.0</td>\n      <td>121.25</td>\n      <td>55.50</td>\n      <td>308</td>\n      <td>3.510748e+07</td>\n      <td>숙박업</td>\n    </tr>\n    <tr>\n      <th>105311</th>\n      <td>중부시장(신중부시장)</td>\n      <td>927336.00</td>\n      <td>18.0</td>\n      <td>25</td>\n      <td>15.0</td>\n      <td>148636943.0</td>\n      <td>121.25</td>\n      <td>55.50</td>\n      <td>375</td>\n      <td>1.061767e+07</td>\n      <td>스포츠_및_오락_서비스업</td>\n    </tr>\n    <tr>\n      <th>105312</th>\n      <td>중부시장(신중부시장)</td>\n      <td>927336.00</td>\n      <td>18.0</td>\n      <td>1663</td>\n      <td>15.0</td>\n      <td>148636943.0</td>\n      <td>121.25</td>\n      <td>55.50</td>\n      <td>147094</td>\n      <td>7.184864e+09</td>\n      <td>식료품_도소매업</td>\n    </tr>\n    <tr>\n      <th>105313</th>\n      <td>중부시장(신중부시장)</td>\n      <td>927336.00</td>\n      <td>18.0</td>\n      <td>243</td>\n      <td>15.0</td>\n      <td>148636943.0</td>\n      <td>121.25</td>\n      <td>55.50</td>\n      <td>19070</td>\n      <td>5.655092e+08</td>\n      <td>음식점_및_주점업</td>\n    </tr>\n    <tr>\n      <th>105314</th>\n      <td>중부시장(신중부시장)</td>\n      <td>927336.00</td>\n      <td>18.0</td>\n      <td>251</td>\n      <td>15.0</td>\n      <td>148636943.0</td>\n      <td>121.25</td>\n      <td>55.50</td>\n      <td>51512</td>\n      <td>3.202202e+09</td>\n      <td>제조업</td>\n    </tr>\n  </tbody>\n</table>\n<p>105198 rows × 11 columns</p>\n</div>"
     },
     "execution_count": 6,
     "metadata": {},
     "output_type": "execute_result"
    }
   ],
   "source": [
    "store"
   ]
  },
  {
   "cell_type": "code",
   "execution_count": 7,
   "metadata": {
    "pycharm": {
     "name": "#%%\n"
    }
   },
   "outputs": [],
   "source": [
    "store.rename(columns={'서울_운영_영업_개월_평균': '영업_개월_평균', '서울_폐업_영업_개월_평균':'폐업_개월_평균','구분':'업종_명'},inplace=True)"
   ]
  },
  {
   "cell_type": "code",
   "execution_count": 8,
   "metadata": {
    "pycharm": {
     "name": "#%%\n"
    }
   },
   "outputs": [],
   "source": [
    "store = store.reset_index(drop=True)"
   ]
  },
  {
   "cell_type": "code",
   "execution_count": 9,
   "metadata": {
    "pycharm": {
     "name": "#%%\n"
    }
   },
   "outputs": [
    {
     "data": {
      "text/plain": "            상권_코드_명   총_생활인구_수  집객시설_수  점포_수  아파트_평균_면적    아파트_평균_시가  \\\n0            이북5도청사  139405.75    22.5   116      124.0  376996219.5   \n1            이북5도청사  139405.75    22.5   128      124.0  376996219.5   \n2            이북5도청사  139405.75    22.5    98      124.0  376996219.5   \n3            이북5도청사  139405.75    22.5   151      124.0  376996219.5   \n4            이북5도청사  139405.75    22.5    24      124.0  376996219.5   \n...             ...        ...     ...   ...        ...          ...   \n105193  중부시장(신중부시장)  927336.00    18.0    17       15.0  148636943.0   \n105194  중부시장(신중부시장)  927336.00    18.0    25       15.0  148636943.0   \n105195  중부시장(신중부시장)  927336.00    18.0  1663       15.0  148636943.0   \n105196  중부시장(신중부시장)  927336.00    18.0   243       15.0  148636943.0   \n105197  중부시장(신중부시장)  927336.00    18.0   251       15.0  148636943.0   \n\n        영업_개월_평균  폐업_개월_평균   매출_건수         매출_금액            업종_명  \n0          98.75     51.25     398  3.230693e+07         개인_서비스업  \n1          98.75     51.25     166  2.660860e+07  교육_및_사업자원_서비스업  \n2          98.75     51.25      96  2.564806e+06         기타_도소매업  \n3          98.75     51.25     358  3.070350e+07       생활용품_도소매업  \n4          98.75     51.25     874  1.999051e+08             수리업  \n...          ...       ...     ...           ...             ...  \n105193    121.25     55.50     308  3.510748e+07             숙박업  \n105194    121.25     55.50     375  1.061767e+07   스포츠_및_오락_서비스업  \n105195    121.25     55.50  147094  7.184864e+09        식료품_도소매업  \n105196    121.25     55.50   19070  5.655092e+08       음식점_및_주점업  \n105197    121.25     55.50   51512  3.202202e+09             제조업  \n\n[105198 rows x 11 columns]",
      "text/html": "<div>\n<style scoped>\n    .dataframe tbody tr th:only-of-type {\n        vertical-align: middle;\n    }\n\n    .dataframe tbody tr th {\n        vertical-align: top;\n    }\n\n    .dataframe thead th {\n        text-align: right;\n    }\n</style>\n<table border=\"1\" class=\"dataframe\">\n  <thead>\n    <tr style=\"text-align: right;\">\n      <th></th>\n      <th>상권_코드_명</th>\n      <th>총_생활인구_수</th>\n      <th>집객시설_수</th>\n      <th>점포_수</th>\n      <th>아파트_평균_면적</th>\n      <th>아파트_평균_시가</th>\n      <th>영업_개월_평균</th>\n      <th>폐업_개월_평균</th>\n      <th>매출_건수</th>\n      <th>매출_금액</th>\n      <th>업종_명</th>\n    </tr>\n  </thead>\n  <tbody>\n    <tr>\n      <th>0</th>\n      <td>이북5도청사</td>\n      <td>139405.75</td>\n      <td>22.5</td>\n      <td>116</td>\n      <td>124.0</td>\n      <td>376996219.5</td>\n      <td>98.75</td>\n      <td>51.25</td>\n      <td>398</td>\n      <td>3.230693e+07</td>\n      <td>개인_서비스업</td>\n    </tr>\n    <tr>\n      <th>1</th>\n      <td>이북5도청사</td>\n      <td>139405.75</td>\n      <td>22.5</td>\n      <td>128</td>\n      <td>124.0</td>\n      <td>376996219.5</td>\n      <td>98.75</td>\n      <td>51.25</td>\n      <td>166</td>\n      <td>2.660860e+07</td>\n      <td>교육_및_사업자원_서비스업</td>\n    </tr>\n    <tr>\n      <th>2</th>\n      <td>이북5도청사</td>\n      <td>139405.75</td>\n      <td>22.5</td>\n      <td>98</td>\n      <td>124.0</td>\n      <td>376996219.5</td>\n      <td>98.75</td>\n      <td>51.25</td>\n      <td>96</td>\n      <td>2.564806e+06</td>\n      <td>기타_도소매업</td>\n    </tr>\n    <tr>\n      <th>3</th>\n      <td>이북5도청사</td>\n      <td>139405.75</td>\n      <td>22.5</td>\n      <td>151</td>\n      <td>124.0</td>\n      <td>376996219.5</td>\n      <td>98.75</td>\n      <td>51.25</td>\n      <td>358</td>\n      <td>3.070350e+07</td>\n      <td>생활용품_도소매업</td>\n    </tr>\n    <tr>\n      <th>4</th>\n      <td>이북5도청사</td>\n      <td>139405.75</td>\n      <td>22.5</td>\n      <td>24</td>\n      <td>124.0</td>\n      <td>376996219.5</td>\n      <td>98.75</td>\n      <td>51.25</td>\n      <td>874</td>\n      <td>1.999051e+08</td>\n      <td>수리업</td>\n    </tr>\n    <tr>\n      <th>...</th>\n      <td>...</td>\n      <td>...</td>\n      <td>...</td>\n      <td>...</td>\n      <td>...</td>\n      <td>...</td>\n      <td>...</td>\n      <td>...</td>\n      <td>...</td>\n      <td>...</td>\n      <td>...</td>\n    </tr>\n    <tr>\n      <th>105193</th>\n      <td>중부시장(신중부시장)</td>\n      <td>927336.00</td>\n      <td>18.0</td>\n      <td>17</td>\n      <td>15.0</td>\n      <td>148636943.0</td>\n      <td>121.25</td>\n      <td>55.50</td>\n      <td>308</td>\n      <td>3.510748e+07</td>\n      <td>숙박업</td>\n    </tr>\n    <tr>\n      <th>105194</th>\n      <td>중부시장(신중부시장)</td>\n      <td>927336.00</td>\n      <td>18.0</td>\n      <td>25</td>\n      <td>15.0</td>\n      <td>148636943.0</td>\n      <td>121.25</td>\n      <td>55.50</td>\n      <td>375</td>\n      <td>1.061767e+07</td>\n      <td>스포츠_및_오락_서비스업</td>\n    </tr>\n    <tr>\n      <th>105195</th>\n      <td>중부시장(신중부시장)</td>\n      <td>927336.00</td>\n      <td>18.0</td>\n      <td>1663</td>\n      <td>15.0</td>\n      <td>148636943.0</td>\n      <td>121.25</td>\n      <td>55.50</td>\n      <td>147094</td>\n      <td>7.184864e+09</td>\n      <td>식료품_도소매업</td>\n    </tr>\n    <tr>\n      <th>105196</th>\n      <td>중부시장(신중부시장)</td>\n      <td>927336.00</td>\n      <td>18.0</td>\n      <td>243</td>\n      <td>15.0</td>\n      <td>148636943.0</td>\n      <td>121.25</td>\n      <td>55.50</td>\n      <td>19070</td>\n      <td>5.655092e+08</td>\n      <td>음식점_및_주점업</td>\n    </tr>\n    <tr>\n      <th>105197</th>\n      <td>중부시장(신중부시장)</td>\n      <td>927336.00</td>\n      <td>18.0</td>\n      <td>251</td>\n      <td>15.0</td>\n      <td>148636943.0</td>\n      <td>121.25</td>\n      <td>55.50</td>\n      <td>51512</td>\n      <td>3.202202e+09</td>\n      <td>제조업</td>\n    </tr>\n  </tbody>\n</table>\n<p>105198 rows × 11 columns</p>\n</div>"
     },
     "execution_count": 9,
     "metadata": {},
     "output_type": "execute_result"
    }
   ],
   "source": [
    "store"
   ]
  },
  {
   "cell_type": "code",
   "execution_count": 10,
   "outputs": [
    {
     "data": {
      "text/plain": "array(['개인_서비스업', '교육_및_사업자원_서비스업', '기타_도소매업', '생활용품_도소매업', '수리업', '숙박업',\n       '스포츠_및_오락_서비스업', '식료품_도소매업', '음식점_및_주점업', '제조업',\n       '가전제품_및_통신기기_도소매업', '기타_서비스업', '부동산_및_임대업', '중고상품_도소매업'],\n      dtype=object)"
     },
     "execution_count": 10,
     "metadata": {},
     "output_type": "execute_result"
    }
   ],
   "source": [
    "store[\"업종_명\"].unique()"
   ],
   "metadata": {
    "collapsed": false,
    "pycharm": {
     "name": "#%%\n"
    }
   }
  },
  {
   "cell_type": "code",
   "execution_count": 11,
   "outputs": [],
   "source": [
    "sectors = [\"개인_서비스업\", \"교육_및_사업자원_서비스업\", \"기타_도소매업\", \"생활용품_도소매업\", \"수리업\", \"숙박업\",\n",
    "          \"스포츠_및_오락_서비스업\", \"식료품_도소매업\", \"음식점_및_주점업\", \"제조업\", \"가전제품_및_통신기기_도소매업\",\n",
    "          \"기타_서비스업\", \"부동산_및_임대업\", \"중고상품_도소매업\"]"
   ],
   "metadata": {
    "collapsed": false,
    "pycharm": {
     "name": "#%%\n"
    }
   }
  },
  {
   "cell_type": "code",
   "execution_count": 12,
   "outputs": [],
   "source": [
    "ols_summary = []\n",
    "for sector in sectors:\n",
    "    data = store[store[\"업종_명\"] == sector]\n",
    "    X = data[[\"총_생활인구_수\", \"집객시설_수\", \"점포_수\", \"아파트_평균_면적\", \"아파트_평균_시가\", \"영업_개월_평균\", \"폐업_개월_평균\", \"매출_건수\"]]\n",
    "    y = data[\"매출_금액\"]\n",
    "    result = sm.OLS(y, X).fit()\n",
    "\n",
    "    ols_summary.append(result.summary())"
   ],
   "metadata": {
    "collapsed": false,
    "pycharm": {
     "name": "#%%\n"
    }
   }
  },
  {
   "cell_type": "code",
   "execution_count": 13,
   "outputs": [
    {
     "data": {
      "text/plain": "<class 'statsmodels.iolib.summary.Summary'>\n\"\"\"\n                                 OLS Regression Results                                \n=======================================================================================\nDep. Variable:                  매출_금액   R-squared (uncentered):                   0.630\nModel:                            OLS   Adj. R-squared (uncentered):              0.630\nMethod:                 Least Squares   F-statistic:                              1737.\nDate:                Tue, 23 May 2023   Prob (F-statistic):                        0.00\nTime:                        03:23:38   Log-Likelihood:                     -1.9452e+05\nNo. Observations:                8166   AIC:                                  3.891e+05\nDf Residuals:                    8158   BIC:                                  3.891e+05\nDf Model:                           8                                                  \nCovariance Type:            nonrobust                                                  \n==============================================================================\n                 coef    std err          t      P>|t|      [0.025      0.975]\n------------------------------------------------------------------------------\n총_생활인구_수     -41.1826     45.155     -0.912      0.362    -129.698      47.333\n집객시설_수     -1.359e+07   1.99e+06     -6.839      0.000   -1.75e+07   -9.69e+06\n점포_수        1.505e+07   1.47e+05    102.173      0.000    1.48e+07    1.53e+07\n아파트_평균_면적   1.118e+06   5.64e+06      0.198      0.843   -9.94e+06    1.22e+07\n아파트_평균_시가     -0.0714      0.607     -0.118      0.906      -1.262       1.119\n영업_개월_평균    9.361e+07   1.48e+07      6.315      0.000    6.45e+07    1.23e+08\n폐업_개월_평균     -2.1e+08   3.21e+07     -6.551      0.000   -2.73e+08   -1.47e+08\n매출_건수       1.669e+04    789.879     21.131      0.000    1.51e+04    1.82e+04\n==============================================================================\nOmnibus:                    16292.107   Durbin-Watson:                   0.819\nProb(Omnibus):                  0.000   Jarque-Bera (JB):        215676473.458\nSkew:                          15.435   Prob(JB):                         0.00\nKurtosis:                     798.565   Cond. No.                     1.60e+08\n==============================================================================\n\nNotes:\n[1] R² is computed without centering (uncentered) since the model does not contain a constant.\n[2] Standard Errors assume that the covariance matrix of the errors is correctly specified.\n[3] The condition number is large, 1.6e+08. This might indicate that there are\nstrong multicollinearity or other numerical problems.\n\"\"\"",
      "text/html": "<table class=\"simpletable\">\n<caption>OLS Regression Results</caption>\n<tr>\n  <th>Dep. Variable:</th>          <td>매출_금액</td>      <th>  R-squared (uncentered):</th>       <td>   0.630</td>  \n</tr>\n<tr>\n  <th>Model:</th>                   <td>OLS</td>       <th>  Adj. R-squared (uncentered):</th>  <td>   0.630</td>  \n</tr>\n<tr>\n  <th>Method:</th>             <td>Least Squares</td>  <th>  F-statistic:       </th>           <td>   1737.</td>  \n</tr>\n<tr>\n  <th>Date:</th>             <td>Tue, 23 May 2023</td> <th>  Prob (F-statistic):</th>            <td>  0.00</td>   \n</tr>\n<tr>\n  <th>Time:</th>                 <td>03:23:38</td>     <th>  Log-Likelihood:    </th>          <td>-1.9452e+05</td>\n</tr>\n<tr>\n  <th>No. Observations:</th>      <td>  8166</td>      <th>  AIC:               </th>           <td>3.891e+05</td> \n</tr>\n<tr>\n  <th>Df Residuals:</th>          <td>  8158</td>      <th>  BIC:               </th>           <td>3.891e+05</td> \n</tr>\n<tr>\n  <th>Df Model:</th>              <td>     8</td>      <th>                     </th>               <td> </td>     \n</tr>\n<tr>\n  <th>Covariance Type:</th>      <td>nonrobust</td>    <th>                     </th>               <td> </td>     \n</tr>\n</table>\n<table class=\"simpletable\">\n<tr>\n      <td></td>         <th>coef</th>     <th>std err</th>      <th>t</th>      <th>P>|t|</th>  <th>[0.025</th>    <th>0.975]</th>  \n</tr>\n<tr>\n  <th>총_생활인구_수</th>  <td>  -41.1826</td> <td>   45.155</td> <td>   -0.912</td> <td> 0.362</td> <td> -129.698</td> <td>   47.333</td>\n</tr>\n<tr>\n  <th>집객시설_수</th>    <td>-1.359e+07</td> <td> 1.99e+06</td> <td>   -6.839</td> <td> 0.000</td> <td>-1.75e+07</td> <td>-9.69e+06</td>\n</tr>\n<tr>\n  <th>점포_수</th>      <td> 1.505e+07</td> <td> 1.47e+05</td> <td>  102.173</td> <td> 0.000</td> <td> 1.48e+07</td> <td> 1.53e+07</td>\n</tr>\n<tr>\n  <th>아파트_평균_면적</th> <td> 1.118e+06</td> <td> 5.64e+06</td> <td>    0.198</td> <td> 0.843</td> <td>-9.94e+06</td> <td> 1.22e+07</td>\n</tr>\n<tr>\n  <th>아파트_평균_시가</th> <td>   -0.0714</td> <td>    0.607</td> <td>   -0.118</td> <td> 0.906</td> <td>   -1.262</td> <td>    1.119</td>\n</tr>\n<tr>\n  <th>영업_개월_평균</th>  <td> 9.361e+07</td> <td> 1.48e+07</td> <td>    6.315</td> <td> 0.000</td> <td> 6.45e+07</td> <td> 1.23e+08</td>\n</tr>\n<tr>\n  <th>폐업_개월_평균</th>  <td>  -2.1e+08</td> <td> 3.21e+07</td> <td>   -6.551</td> <td> 0.000</td> <td>-2.73e+08</td> <td>-1.47e+08</td>\n</tr>\n<tr>\n  <th>매출_건수</th>     <td> 1.669e+04</td> <td>  789.879</td> <td>   21.131</td> <td> 0.000</td> <td> 1.51e+04</td> <td> 1.82e+04</td>\n</tr>\n</table>\n<table class=\"simpletable\">\n<tr>\n  <th>Omnibus:</th>       <td>16292.107</td> <th>  Durbin-Watson:     </th>   <td>   0.819</td>   \n</tr>\n<tr>\n  <th>Prob(Omnibus):</th>  <td> 0.000</td>   <th>  Jarque-Bera (JB):  </th> <td>215676473.458</td>\n</tr>\n<tr>\n  <th>Skew:</th>           <td>15.435</td>   <th>  Prob(JB):          </th>   <td>    0.00</td>   \n</tr>\n<tr>\n  <th>Kurtosis:</th>       <td>798.565</td>  <th>  Cond. No.          </th>   <td>1.60e+08</td>   \n</tr>\n</table><br/><br/>Notes:<br/>[1] R² is computed without centering (uncentered) since the model does not contain a constant.<br/>[2] Standard Errors assume that the covariance matrix of the errors is correctly specified.<br/>[3] The condition number is large, 1.6e+08. This might indicate that there are<br/>strong multicollinearity or other numerical problems."
     },
     "execution_count": 13,
     "metadata": {},
     "output_type": "execute_result"
    }
   ],
   "source": [
    "ols_summary[10]"
   ],
   "metadata": {
    "collapsed": false,
    "pycharm": {
     "name": "#%%\n"
    }
   }
  },
  {
   "cell_type": "code",
   "execution_count": 14,
   "outputs": [],
   "source": [
    "from sklearn.model_selection import cross_val_score\n",
    "from sklearn.preprocessing import scale\n",
    "from sklearn.model_selection import train_test_split"
   ],
   "metadata": {
    "collapsed": false,
    "pycharm": {
     "name": "#%%\n"
    }
   }
  },
  {
   "cell_type": "code",
   "execution_count": 15,
   "outputs": [
    {
     "name": "stderr",
     "output_type": "stream",
     "text": [
      "C:\\ProgramData\\Anaconda3\\lib\\site-packages\\sklearn\\preprocessing\\_data.py:194: UserWarning: Numerical issues were encountered when centering the data and might not be solved. Dataset may contain too large values. You may need to prescale your features.\n",
      "  warnings.warn(\"Numerical issues were encountered \"\n",
      "C:\\ProgramData\\Anaconda3\\lib\\site-packages\\sklearn\\preprocessing\\_data.py:194: UserWarning: Numerical issues were encountered when centering the data and might not be solved. Dataset may contain too large values. You may need to prescale your features.\n",
      "  warnings.warn(\"Numerical issues were encountered \"\n"
     ]
    },
    {
     "name": "stdout",
     "output_type": "stream",
     "text": [
      "R-squared:  0.17751228839415023\n",
      "CV mean score:  -0.09184938422876425\n",
      "MSE:  1.0582018500389387\n"
     ]
    }
   ],
   "source": [
    "data = store[store[\"업종_명\"] == \"가전제품_및_통신기기_도소매업\"]\n",
    "\n",
    "X = data[[\"총_생활인구_수\", \"집객시설_수\", \"점포_수\", \"아파트_평균_면적\", \"아파트_평균_시가\", \"영업_개월_평균\", \"폐업_개월_평균\", \"매출_건수\"]]\n",
    "y = data[\"매출_금액\"]\n",
    "\n",
    "X = scale(X)\n",
    "y = scale(y)\n",
    "\n",
    "X_train, X_test, y_train, y_test = train_test_split(X, y, test_size=0.3)\n",
    "\n",
    "svr = SVR(kernel='rbf', gamma='auto')\n",
    "y_rbf = svr.fit(X_train,y_train)\n",
    "\n",
    "score = svr.score(X_train, y_train)\n",
    "print(\"R-squared: \", score)\n",
    "\n",
    "cv_score = cross_val_score(svr, X, y, cv=5)\n",
    "print(\"CV mean score: \", cv_score.mean())\n",
    "\n",
    "y_pred = svr.predict(X_test)\n",
    "\n",
    "mse = mean_squared_error(y_test, y_pred)\n",
    "print(\"MSE: \", mse)"
   ],
   "metadata": {
    "collapsed": false,
    "pycharm": {
     "name": "#%%\n"
    }
   }
  },
  {
   "cell_type": "code",
   "execution_count": 16,
   "outputs": [],
   "source": [
    "from sklearn.ensemble import RandomForestRegressor"
   ],
   "metadata": {
    "collapsed": false,
    "pycharm": {
     "name": "#%%\n"
    }
   }
  },
  {
   "cell_type": "code",
   "execution_count": 17,
   "outputs": [
    {
     "name": "stdout",
     "output_type": "stream",
     "text": [
      "mse:  581534407.1060553\n",
      "rmse:  24115.024509754396\n",
      "R-squared:  0.735112943458283\n"
     ]
    }
   ],
   "source": [
    "data = store[store[\"업종_명\"] == \"가전제품_및_통신기기_도소매업\"]\n",
    "\n",
    "X = data[[\"총_생활인구_수\", \"집객시설_수\", \"점포_수\", \"아파트_평균_면적\", \"아파트_평균_시가\", \"영업_개월_평균\", \"폐업_개월_평균\", \"매출_건수\"]]\n",
    "y = data[\"매출_금액\"]\n",
    "\n",
    "X_train, X_test, y_train, y_test = train_test_split(X, y, test_size=0.3)\n",
    "\n",
    "model = RandomForestRegressor()\n",
    "model.fit(X_train, y_train)\n",
    "\n",
    "y_pred = model.predict(X_test)\n",
    "\n",
    "mse = mean_absolute_error(y_test, y_pred)\n",
    "print('mse: ', mse)\n",
    "rmse = (np.sqrt(mse))\n",
    "print('rmse: ', rmse)\n",
    "r2 = r2_score(y_test, y_pred)\n",
    "print('R-squared: ', r2)"
   ],
   "metadata": {
    "collapsed": false,
    "pycharm": {
     "name": "#%%\n"
    }
   }
  },
  {
   "cell_type": "code",
   "execution_count": 18,
   "outputs": [
    {
     "ename": "ModuleNotFoundError",
     "evalue": "No module named 'xgboost'",
     "output_type": "error",
     "traceback": [
      "\u001B[1;31m---------------------------------------------------------------------------\u001B[0m",
      "\u001B[1;31mModuleNotFoundError\u001B[0m                       Traceback (most recent call last)",
      "\u001B[1;32m~\\AppData\\Local\\Temp/ipykernel_29760/1760063640.py\u001B[0m in \u001B[0;36m<module>\u001B[1;34m\u001B[0m\n\u001B[1;32m----> 1\u001B[1;33m \u001B[1;32mimport\u001B[0m \u001B[0mxgboost\u001B[0m\u001B[1;33m\u001B[0m\u001B[1;33m\u001B[0m\u001B[0m\n\u001B[0m\u001B[0;32m      2\u001B[0m \u001B[1;33m\u001B[0m\u001B[0m\n\u001B[0;32m      3\u001B[0m \u001B[0mdata\u001B[0m \u001B[1;33m=\u001B[0m \u001B[0mstore\u001B[0m\u001B[1;33m[\u001B[0m\u001B[0mstore\u001B[0m\u001B[1;33m[\u001B[0m\u001B[1;34m\"업종_명\"\u001B[0m\u001B[1;33m]\u001B[0m \u001B[1;33m==\u001B[0m \u001B[1;34m\"가전제품_및_통신기기_도소매업\"\u001B[0m\u001B[1;33m]\u001B[0m\u001B[1;33m\u001B[0m\u001B[1;33m\u001B[0m\u001B[0m\n\u001B[0;32m      4\u001B[0m \u001B[1;33m\u001B[0m\u001B[0m\n\u001B[0;32m      5\u001B[0m \u001B[0mX\u001B[0m \u001B[1;33m=\u001B[0m \u001B[0mdata\u001B[0m\u001B[1;33m[\u001B[0m\u001B[1;33m[\u001B[0m\u001B[1;34m\"총_생활인구_수\"\u001B[0m\u001B[1;33m,\u001B[0m \u001B[1;34m\"집객시설_수\"\u001B[0m\u001B[1;33m,\u001B[0m \u001B[1;34m\"점포_수\"\u001B[0m\u001B[1;33m,\u001B[0m \u001B[1;34m\"아파트_평균_면적\"\u001B[0m\u001B[1;33m,\u001B[0m \u001B[1;34m\"아파트_평균_시가\"\u001B[0m\u001B[1;33m,\u001B[0m \u001B[1;34m\"영업_개월_평균\"\u001B[0m\u001B[1;33m,\u001B[0m \u001B[1;34m\"폐업_개월_평균\"\u001B[0m\u001B[1;33m,\u001B[0m \u001B[1;34m\"매출_건수\"\u001B[0m\u001B[1;33m]\u001B[0m\u001B[1;33m]\u001B[0m\u001B[1;33m\u001B[0m\u001B[1;33m\u001B[0m\u001B[0m\n",
      "\u001B[1;31mModuleNotFoundError\u001B[0m: No module named 'xgboost'"
     ]
    }
   ],
   "source": [
    "import xgboost\n",
    "\n",
    "data = store[store[\"업종_명\"] == \"가전제품_및_통신기기_도소매업\"]\n",
    "\n",
    "X = data[[\"총_생활인구_수\", \"집객시설_수\", \"점포_수\", \"아파트_평균_면적\", \"아파트_평균_시가\", \"영업_개월_평균\", \"폐업_개월_평균\", \"매출_건수\"]]\n",
    "y = data[\"매출_금액\"]\n",
    "\n",
    "X_train, X_test, y_train, y_test = train_test_split(X, y, test_size=0.3)\n",
    "\n",
    "xgb_model = xgboost.XGBRegressor(n_estimators=100, learning_rate=0.08, gamma=0,\n",
    "                                 subsample=0.75, colsample_bytree=1, max_depth=7)\n",
    "\n",
    "xgb_model.fit(X_train,y_train)\n",
    "\n",
    "r2 = xgb_model.score(X_train, y_train)\n",
    "print(r2)"
   ],
   "metadata": {
    "collapsed": false,
    "pycharm": {
     "name": "#%%\n"
    }
   }
  },
  {
   "cell_type": "code",
   "execution_count": null,
   "outputs": [],
   "source": [],
   "metadata": {
    "collapsed": false,
    "pycharm": {
     "name": "#%%\n"
    }
   }
  }
 ],
 "metadata": {
  "kernelspec": {
   "display_name": "base",
   "language": "python",
   "name": "python3"
  },
  "language_info": {
   "codemirror_mode": {
    "name": "ipython",
    "version": 3
   },
   "file_extension": ".py",
   "mimetype": "text/x-python",
   "name": "python",
   "nbconvert_exporter": "python",
   "pygments_lexer": "ipython3",
   "version": "3.10.8"
  },
  "orig_nbformat": 4
 },
 "nbformat": 4,
 "nbformat_minor": 2
}