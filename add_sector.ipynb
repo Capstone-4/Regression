{
 "cells": [
  {
   "cell_type": "code",
   "execution_count": 1,
   "metadata": {},
   "outputs": [],
   "source": [
    "import pandas as pd"
   ]
  },
  {
   "cell_type": "code",
   "execution_count": 2,
   "metadata": {},
   "outputs": [],
   "source": [
    "commercial = pd.read_csv(\"data/commercial_with_xy.csv\")\n",
    "building = pd.read_csv(\"data/outer.csv\")"
   ]
  },
  {
   "cell_type": "code",
   "execution_count": 3,
   "metadata": {},
   "outputs": [
    {
     "data": {
      "text/plain": [
       "Index(['기준_년_코드', '상권_구분_코드', '상권_구분_코드_명', '상권_코드', '상권_코드_명', '총_생활인구_수',\n",
       "       '집객시설_수', '아파트_평균_면적', '아파트_평균_시가', '상권_변화_지표', '상권_변화_지표_명',\n",
       "       '운영_영업_개월_평균', '폐업_영업_개월_평균', '서울_운영_영업_개월_평균', '서울_폐업_영업_개월_평균', '구분',\n",
       "       '점포_수', '매출_금액', '매출_건수', '엑스좌표_값', '와이좌표_값'],\n",
       "      dtype='object')"
      ]
     },
     "execution_count": 3,
     "metadata": {},
     "output_type": "execute_result"
    }
   ],
   "source": [
    "commercial.columns"
   ]
  },
  {
   "cell_type": "code",
   "execution_count": 4,
   "metadata": {},
   "outputs": [],
   "source": [
    "commercial = commercial[['상권_코드_명','총_생활인구_수','집객시설_수','점포_수','아파트_평균_면적','아파트_평균_시가','서울_운영_영업_개월_평균','서울_폐업_영업_개월_평균','매출_건수', \"매출_금액\",'구분', '엑스좌표_값', '와이좌표_값']]\n",
    "commercial = commercial.drop_duplicates()\n",
    "commercial.rename(columns={'서울_운영_영업_개월_평균': '영업_개월_평균', '서울_폐업_영업_개월_평균':'폐업_개월_평균','구분':'업종_명'},inplace=True)\n",
    "commercial = commercial.reset_index(drop=True)"
   ]
  },
  {
   "cell_type": "code",
   "execution_count": 5,
   "metadata": {},
   "outputs": [
    {
     "data": {
      "text/plain": [
       "Index(['Unnamed: 0.3', 'Unnamed: 0.2', 'Unnamed: 0.1', 'Unnamed: 0',\n",
       "       '관리_건축물대장_PK', '관리_상위_건축물대장_PK', '새주소_지상지하_코드', '주소', '지상층수', '지하층수',\n",
       "       '승강기_수', '주건축물수', '세대수', '가구수', '동명칭', '호_명', '층_구분_코드_x', '층_구분_코드_y',\n",
       "       '층_번호', '면적', '용적율', '주차_대수', 'y', 'x', 'commercial_row'],\n",
       "      dtype='object')"
      ]
     },
     "execution_count": 5,
     "metadata": {},
     "output_type": "execute_result"
    }
   ],
   "source": [
    "building.columns"
   ]
  },
  {
   "cell_type": "code",
   "execution_count": 6,
   "metadata": {},
   "outputs": [
    {
     "data": {
      "text/plain": [
       "(37.489084, 126.9731714)"
      ]
     },
     "execution_count": 6,
     "metadata": {},
     "output_type": "execute_result"
    }
   ],
   "source": [
    "x1 = building[\"x\"][1]\n",
    "y1 = building[\"y\"][1]\n",
    "(x1, y1)"
   ]
  },
  {
   "cell_type": "code",
   "execution_count": 7,
   "metadata": {},
   "outputs": [
    {
     "data": {
      "text/html": [
       "<div>\n",
       "<style scoped>\n",
       "    .dataframe tbody tr th:only-of-type {\n",
       "        vertical-align: middle;\n",
       "    }\n",
       "\n",
       "    .dataframe tbody tr th {\n",
       "        vertical-align: top;\n",
       "    }\n",
       "\n",
       "    .dataframe thead th {\n",
       "        text-align: right;\n",
       "    }\n",
       "</style>\n",
       "<table border=\"1\" class=\"dataframe\">\n",
       "  <thead>\n",
       "    <tr style=\"text-align: right;\">\n",
       "      <th></th>\n",
       "      <th>엑스좌표_값</th>\n",
       "      <th>와이좌표_값</th>\n",
       "    </tr>\n",
       "  </thead>\n",
       "  <tbody>\n",
       "    <tr>\n",
       "      <th>0</th>\n",
       "      <td>196193</td>\n",
       "      <td>456641</td>\n",
       "    </tr>\n",
       "    <tr>\n",
       "      <th>1</th>\n",
       "      <td>196193</td>\n",
       "      <td>456641</td>\n",
       "    </tr>\n",
       "    <tr>\n",
       "      <th>2</th>\n",
       "      <td>196193</td>\n",
       "      <td>456641</td>\n",
       "    </tr>\n",
       "    <tr>\n",
       "      <th>3</th>\n",
       "      <td>196193</td>\n",
       "      <td>456641</td>\n",
       "    </tr>\n",
       "    <tr>\n",
       "      <th>4</th>\n",
       "      <td>196193</td>\n",
       "      <td>456641</td>\n",
       "    </tr>\n",
       "    <tr>\n",
       "      <th>...</th>\n",
       "      <td>...</td>\n",
       "      <td>...</td>\n",
       "    </tr>\n",
       "    <tr>\n",
       "      <th>105193</th>\n",
       "      <td>200025</td>\n",
       "      <td>451782</td>\n",
       "    </tr>\n",
       "    <tr>\n",
       "      <th>105194</th>\n",
       "      <td>200025</td>\n",
       "      <td>451782</td>\n",
       "    </tr>\n",
       "    <tr>\n",
       "      <th>105195</th>\n",
       "      <td>200025</td>\n",
       "      <td>451782</td>\n",
       "    </tr>\n",
       "    <tr>\n",
       "      <th>105196</th>\n",
       "      <td>200025</td>\n",
       "      <td>451782</td>\n",
       "    </tr>\n",
       "    <tr>\n",
       "      <th>105197</th>\n",
       "      <td>200025</td>\n",
       "      <td>451782</td>\n",
       "    </tr>\n",
       "  </tbody>\n",
       "</table>\n",
       "<p>105198 rows × 2 columns</p>\n",
       "</div>"
      ],
      "text/plain": [
       "        엑스좌표_값  와이좌표_값\n",
       "0       196193  456641\n",
       "1       196193  456641\n",
       "2       196193  456641\n",
       "3       196193  456641\n",
       "4       196193  456641\n",
       "...        ...     ...\n",
       "105193  200025  451782\n",
       "105194  200025  451782\n",
       "105195  200025  451782\n",
       "105196  200025  451782\n",
       "105197  200025  451782\n",
       "\n",
       "[105198 rows x 2 columns]"
      ]
     },
     "execution_count": 7,
     "metadata": {},
     "output_type": "execute_result"
    }
   ],
   "source": [
    "commercial.iloc[:, -2:]"
   ]
  },
  {
   "cell_type": "code",
   "execution_count": 8,
   "metadata": {},
   "outputs": [],
   "source": [
    "import math\n",
    "\n",
    "def get_distance(point1, point2):\n",
    "    x1, y1 = point1\n",
    "    x2, y2 = point2\n",
    "    return math.sqrt((x2 - x1)**2 + (y2 - y1)**2)"
   ]
  },
  {
   "cell_type": "code",
   "execution_count": 9,
   "metadata": {},
   "outputs": [],
   "source": [
    "import geopandas as gpd\n",
    "\n",
    "def convert_coordinates(df):\n",
    "    # 좌표 변환\n",
    "    geometry = gpd.points_from_xy(df['엑스좌표_값'], df['와이좌표_값'])\n",
    "    gdf = gpd.GeoDataFrame(df, geometry=geometry, crs=\"EPSG:5181\")\n",
    "    gdf = gdf.to_crs(\"EPSG:4326\")\n",
    "\n",
    "    # 변환된 좌표 열 추가\n",
    "    df['new_x'] = gdf.geometry.y\n",
    "    df['new_y'] = gdf.geometry.x\n",
    "\n",
    "    return df"
   ]
  },
  {
   "cell_type": "code",
   "execution_count": 13,
   "metadata": {},
   "outputs": [],
   "source": [
    "commercial = convert_coordinates(commercial)"
   ]
  },
  {
   "cell_type": "code",
   "execution_count": 14,
   "metadata": {},
   "outputs": [
    {
     "data": {
      "text/plain": [
       "(105198, 16)"
      ]
     },
     "execution_count": 14,
     "metadata": {},
     "output_type": "execute_result"
    }
   ],
   "source": [
    "commercial.shape"
   ]
  },
  {
   "cell_type": "code",
   "execution_count": 15,
   "metadata": {},
   "outputs": [],
   "source": [
    "building_coordinates = list(zip(building['x'], building['y']))\n",
    "commercial_coordinates = list(zip(commercial['new_x'], commercial['new_y']))"
   ]
  },
  {
   "cell_type": "code",
   "execution_count": 16,
   "metadata": {},
   "outputs": [],
   "source": [
    "min_idx = 0\n",
    "min_dist = 10000000000000000\n",
    "building[\"commercial_row\"] = None\n",
    "\n",
    "for building_idx in range(len(building_coordinates)):\n",
    "    for commercial_idx in range(len(commercial_coordinates)):\n",
    "        dist = get_distance(building_coordinates[building_idx], commercial_coordinates[commercial_idx])\n",
    "        if dist < min_dist:\n",
    "            min_idx = commercial_idx\n",
    "            min_dist = dist\n",
    "    building.loc[building_idx, \"commercial_row\"] = min_idx\n",
    "    min_idx = 0\n",
    "    min_dist = 10000000000000000"
   ]
  },
  {
   "cell_type": "code",
   "execution_count": 17,
   "metadata": {},
   "outputs": [
    {
     "data": {
      "text/plain": [
       "105180"
      ]
     },
     "execution_count": 17,
     "metadata": {},
     "output_type": "execute_result"
    }
   ],
   "source": [
    "building[\"commercial_row\"].max()"
   ]
  },
  {
   "cell_type": "code",
   "execution_count": 18,
   "metadata": {},
   "outputs": [
    {
     "data": {
      "text/plain": [
       "Index(['상권_코드_명', '총_생활인구_수', '집객시설_수', '점포_수', '아파트_평균_면적', '아파트_평균_시가',\n",
       "       '영업_개월_평균', '폐업_개월_평균', '매출_건수', '매출_금액', '엑스좌표_값', '와이좌표_값',\n",
       "       'geometry', 'new_x', 'new_y', '업종_명_가전제품_및_통신기기_도소매업', '업종_명_개인_서비스업',\n",
       "       '업종_명_교육_및_사업자원_서비스업', '업종_명_기타_도소매업', '업종_명_기타_서비스업', '업종_명_부동산_및_임대업',\n",
       "       '업종_명_생활용품_도소매업', '업종_명_수리업', '업종_명_숙박업', '업종_명_스포츠_및_오락_서비스업',\n",
       "       '업종_명_식료품_도소매업', '업종_명_음식점_및_주점업', '업종_명_제조업', '업종_명_중고상품_도소매업'],\n",
       "      dtype='object')"
      ]
     },
     "execution_count": 18,
     "metadata": {},
     "output_type": "execute_result"
    }
   ],
   "source": [
    "onehot = pd.get_dummies(commercial, columns = ['업종_명'])\n",
    "onehot.columns  "
   ]
  },
  {
   "cell_type": "code",
   "execution_count": 19,
   "metadata": {},
   "outputs": [],
   "source": [
    "onehot['업종_명_가전제품_및_통신기기_도소매업'] = 0\n",
    "onehot['업종_명_개인_서비스업'] = 0\n",
    "onehot['업종_명_교육_및_사업자원_서비스업'] = 0\n",
    "onehot['업종_명_기타_도소매업'] = 0\n",
    "onehot['업종_명_기타_서비스업'] = 0\n",
    "onehot['업종_명_부동산_및_임대업'] = 0\n",
    "onehot['업종_명_생활용품_도소매업'] = 0\n",
    "onehot['업종_명_수리업'] = 0\n",
    "onehot['업종_명_숙박업'] = 0\n",
    "onehot['업종_명_스포츠_및_오락_서비스업'] = 0\n",
    "onehot['업종_명_식료품_도소매업'] = 0\n",
    "onehot['업종_명_음식점_및_주점업'] = 0\n",
    "onehot['업종_명_제조업'] = 0\n",
    "onehot['업종_명_중고상품_도소매업'] = 0"
   ]
  },
  {
   "cell_type": "code",
   "execution_count": 20,
   "metadata": {},
   "outputs": [
    {
     "data": {
      "text/html": [
       "<div>\n",
       "<style scoped>\n",
       "    .dataframe tbody tr th:only-of-type {\n",
       "        vertical-align: middle;\n",
       "    }\n",
       "\n",
       "    .dataframe tbody tr th {\n",
       "        vertical-align: top;\n",
       "    }\n",
       "\n",
       "    .dataframe thead th {\n",
       "        text-align: right;\n",
       "    }\n",
       "</style>\n",
       "<table border=\"1\" class=\"dataframe\">\n",
       "  <thead>\n",
       "    <tr style=\"text-align: right;\">\n",
       "      <th></th>\n",
       "      <th>상권_코드_명</th>\n",
       "      <th>총_생활인구_수</th>\n",
       "      <th>집객시설_수</th>\n",
       "      <th>점포_수</th>\n",
       "      <th>아파트_평균_면적</th>\n",
       "      <th>아파트_평균_시가</th>\n",
       "      <th>영업_개월_평균</th>\n",
       "      <th>폐업_개월_평균</th>\n",
       "      <th>매출_건수</th>\n",
       "      <th>매출_금액</th>\n",
       "      <th>...</th>\n",
       "      <th>업종_명_기타_서비스업</th>\n",
       "      <th>업종_명_부동산_및_임대업</th>\n",
       "      <th>업종_명_생활용품_도소매업</th>\n",
       "      <th>업종_명_수리업</th>\n",
       "      <th>업종_명_숙박업</th>\n",
       "      <th>업종_명_스포츠_및_오락_서비스업</th>\n",
       "      <th>업종_명_식료품_도소매업</th>\n",
       "      <th>업종_명_음식점_및_주점업</th>\n",
       "      <th>업종_명_제조업</th>\n",
       "      <th>업종_명_중고상품_도소매업</th>\n",
       "    </tr>\n",
       "  </thead>\n",
       "  <tbody>\n",
       "    <tr>\n",
       "      <th>0</th>\n",
       "      <td>이북5도청사</td>\n",
       "      <td>139405.75</td>\n",
       "      <td>22.5</td>\n",
       "      <td>116</td>\n",
       "      <td>124.0</td>\n",
       "      <td>376996219.5</td>\n",
       "      <td>98.75</td>\n",
       "      <td>51.25</td>\n",
       "      <td>398</td>\n",
       "      <td>3.230693e+07</td>\n",
       "      <td>...</td>\n",
       "      <td>0</td>\n",
       "      <td>0</td>\n",
       "      <td>0</td>\n",
       "      <td>0</td>\n",
       "      <td>0</td>\n",
       "      <td>0</td>\n",
       "      <td>0</td>\n",
       "      <td>0</td>\n",
       "      <td>0</td>\n",
       "      <td>0</td>\n",
       "    </tr>\n",
       "    <tr>\n",
       "      <th>1</th>\n",
       "      <td>이북5도청사</td>\n",
       "      <td>139405.75</td>\n",
       "      <td>22.5</td>\n",
       "      <td>128</td>\n",
       "      <td>124.0</td>\n",
       "      <td>376996219.5</td>\n",
       "      <td>98.75</td>\n",
       "      <td>51.25</td>\n",
       "      <td>166</td>\n",
       "      <td>2.660860e+07</td>\n",
       "      <td>...</td>\n",
       "      <td>0</td>\n",
       "      <td>0</td>\n",
       "      <td>0</td>\n",
       "      <td>0</td>\n",
       "      <td>0</td>\n",
       "      <td>0</td>\n",
       "      <td>0</td>\n",
       "      <td>0</td>\n",
       "      <td>0</td>\n",
       "      <td>0</td>\n",
       "    </tr>\n",
       "    <tr>\n",
       "      <th>2</th>\n",
       "      <td>이북5도청사</td>\n",
       "      <td>139405.75</td>\n",
       "      <td>22.5</td>\n",
       "      <td>98</td>\n",
       "      <td>124.0</td>\n",
       "      <td>376996219.5</td>\n",
       "      <td>98.75</td>\n",
       "      <td>51.25</td>\n",
       "      <td>96</td>\n",
       "      <td>2.564806e+06</td>\n",
       "      <td>...</td>\n",
       "      <td>0</td>\n",
       "      <td>0</td>\n",
       "      <td>0</td>\n",
       "      <td>0</td>\n",
       "      <td>0</td>\n",
       "      <td>0</td>\n",
       "      <td>0</td>\n",
       "      <td>0</td>\n",
       "      <td>0</td>\n",
       "      <td>0</td>\n",
       "    </tr>\n",
       "    <tr>\n",
       "      <th>3</th>\n",
       "      <td>이북5도청사</td>\n",
       "      <td>139405.75</td>\n",
       "      <td>22.5</td>\n",
       "      <td>151</td>\n",
       "      <td>124.0</td>\n",
       "      <td>376996219.5</td>\n",
       "      <td>98.75</td>\n",
       "      <td>51.25</td>\n",
       "      <td>358</td>\n",
       "      <td>3.070350e+07</td>\n",
       "      <td>...</td>\n",
       "      <td>0</td>\n",
       "      <td>0</td>\n",
       "      <td>0</td>\n",
       "      <td>0</td>\n",
       "      <td>0</td>\n",
       "      <td>0</td>\n",
       "      <td>0</td>\n",
       "      <td>0</td>\n",
       "      <td>0</td>\n",
       "      <td>0</td>\n",
       "    </tr>\n",
       "    <tr>\n",
       "      <th>4</th>\n",
       "      <td>이북5도청사</td>\n",
       "      <td>139405.75</td>\n",
       "      <td>22.5</td>\n",
       "      <td>24</td>\n",
       "      <td>124.0</td>\n",
       "      <td>376996219.5</td>\n",
       "      <td>98.75</td>\n",
       "      <td>51.25</td>\n",
       "      <td>874</td>\n",
       "      <td>1.999051e+08</td>\n",
       "      <td>...</td>\n",
       "      <td>0</td>\n",
       "      <td>0</td>\n",
       "      <td>0</td>\n",
       "      <td>0</td>\n",
       "      <td>0</td>\n",
       "      <td>0</td>\n",
       "      <td>0</td>\n",
       "      <td>0</td>\n",
       "      <td>0</td>\n",
       "      <td>0</td>\n",
       "    </tr>\n",
       "    <tr>\n",
       "      <th>...</th>\n",
       "      <td>...</td>\n",
       "      <td>...</td>\n",
       "      <td>...</td>\n",
       "      <td>...</td>\n",
       "      <td>...</td>\n",
       "      <td>...</td>\n",
       "      <td>...</td>\n",
       "      <td>...</td>\n",
       "      <td>...</td>\n",
       "      <td>...</td>\n",
       "      <td>...</td>\n",
       "      <td>...</td>\n",
       "      <td>...</td>\n",
       "      <td>...</td>\n",
       "      <td>...</td>\n",
       "      <td>...</td>\n",
       "      <td>...</td>\n",
       "      <td>...</td>\n",
       "      <td>...</td>\n",
       "      <td>...</td>\n",
       "      <td>...</td>\n",
       "    </tr>\n",
       "    <tr>\n",
       "      <th>105193</th>\n",
       "      <td>중부시장(신중부시장)</td>\n",
       "      <td>927336.00</td>\n",
       "      <td>18.0</td>\n",
       "      <td>17</td>\n",
       "      <td>15.0</td>\n",
       "      <td>148636943.0</td>\n",
       "      <td>121.25</td>\n",
       "      <td>55.50</td>\n",
       "      <td>308</td>\n",
       "      <td>3.510748e+07</td>\n",
       "      <td>...</td>\n",
       "      <td>0</td>\n",
       "      <td>0</td>\n",
       "      <td>0</td>\n",
       "      <td>0</td>\n",
       "      <td>0</td>\n",
       "      <td>0</td>\n",
       "      <td>0</td>\n",
       "      <td>0</td>\n",
       "      <td>0</td>\n",
       "      <td>0</td>\n",
       "    </tr>\n",
       "    <tr>\n",
       "      <th>105194</th>\n",
       "      <td>중부시장(신중부시장)</td>\n",
       "      <td>927336.00</td>\n",
       "      <td>18.0</td>\n",
       "      <td>25</td>\n",
       "      <td>15.0</td>\n",
       "      <td>148636943.0</td>\n",
       "      <td>121.25</td>\n",
       "      <td>55.50</td>\n",
       "      <td>375</td>\n",
       "      <td>1.061767e+07</td>\n",
       "      <td>...</td>\n",
       "      <td>0</td>\n",
       "      <td>0</td>\n",
       "      <td>0</td>\n",
       "      <td>0</td>\n",
       "      <td>0</td>\n",
       "      <td>0</td>\n",
       "      <td>0</td>\n",
       "      <td>0</td>\n",
       "      <td>0</td>\n",
       "      <td>0</td>\n",
       "    </tr>\n",
       "    <tr>\n",
       "      <th>105195</th>\n",
       "      <td>중부시장(신중부시장)</td>\n",
       "      <td>927336.00</td>\n",
       "      <td>18.0</td>\n",
       "      <td>1663</td>\n",
       "      <td>15.0</td>\n",
       "      <td>148636943.0</td>\n",
       "      <td>121.25</td>\n",
       "      <td>55.50</td>\n",
       "      <td>147094</td>\n",
       "      <td>7.184864e+09</td>\n",
       "      <td>...</td>\n",
       "      <td>0</td>\n",
       "      <td>0</td>\n",
       "      <td>0</td>\n",
       "      <td>0</td>\n",
       "      <td>0</td>\n",
       "      <td>0</td>\n",
       "      <td>0</td>\n",
       "      <td>0</td>\n",
       "      <td>0</td>\n",
       "      <td>0</td>\n",
       "    </tr>\n",
       "    <tr>\n",
       "      <th>105196</th>\n",
       "      <td>중부시장(신중부시장)</td>\n",
       "      <td>927336.00</td>\n",
       "      <td>18.0</td>\n",
       "      <td>243</td>\n",
       "      <td>15.0</td>\n",
       "      <td>148636943.0</td>\n",
       "      <td>121.25</td>\n",
       "      <td>55.50</td>\n",
       "      <td>19070</td>\n",
       "      <td>5.655092e+08</td>\n",
       "      <td>...</td>\n",
       "      <td>0</td>\n",
       "      <td>0</td>\n",
       "      <td>0</td>\n",
       "      <td>0</td>\n",
       "      <td>0</td>\n",
       "      <td>0</td>\n",
       "      <td>0</td>\n",
       "      <td>0</td>\n",
       "      <td>0</td>\n",
       "      <td>0</td>\n",
       "    </tr>\n",
       "    <tr>\n",
       "      <th>105197</th>\n",
       "      <td>중부시장(신중부시장)</td>\n",
       "      <td>927336.00</td>\n",
       "      <td>18.0</td>\n",
       "      <td>251</td>\n",
       "      <td>15.0</td>\n",
       "      <td>148636943.0</td>\n",
       "      <td>121.25</td>\n",
       "      <td>55.50</td>\n",
       "      <td>51512</td>\n",
       "      <td>3.202202e+09</td>\n",
       "      <td>...</td>\n",
       "      <td>0</td>\n",
       "      <td>0</td>\n",
       "      <td>0</td>\n",
       "      <td>0</td>\n",
       "      <td>0</td>\n",
       "      <td>0</td>\n",
       "      <td>0</td>\n",
       "      <td>0</td>\n",
       "      <td>0</td>\n",
       "      <td>0</td>\n",
       "    </tr>\n",
       "  </tbody>\n",
       "</table>\n",
       "<p>105198 rows × 29 columns</p>\n",
       "</div>"
      ],
      "text/plain": [
       "            상권_코드_명   총_생활인구_수  집객시설_수  점포_수  아파트_평균_면적    아파트_평균_시가  \\\n",
       "0            이북5도청사  139405.75    22.5   116      124.0  376996219.5   \n",
       "1            이북5도청사  139405.75    22.5   128      124.0  376996219.5   \n",
       "2            이북5도청사  139405.75    22.5    98      124.0  376996219.5   \n",
       "3            이북5도청사  139405.75    22.5   151      124.0  376996219.5   \n",
       "4            이북5도청사  139405.75    22.5    24      124.0  376996219.5   \n",
       "...             ...        ...     ...   ...        ...          ...   \n",
       "105193  중부시장(신중부시장)  927336.00    18.0    17       15.0  148636943.0   \n",
       "105194  중부시장(신중부시장)  927336.00    18.0    25       15.0  148636943.0   \n",
       "105195  중부시장(신중부시장)  927336.00    18.0  1663       15.0  148636943.0   \n",
       "105196  중부시장(신중부시장)  927336.00    18.0   243       15.0  148636943.0   \n",
       "105197  중부시장(신중부시장)  927336.00    18.0   251       15.0  148636943.0   \n",
       "\n",
       "        영업_개월_평균  폐업_개월_평균   매출_건수         매출_금액  ...  업종_명_기타_서비스업  \\\n",
       "0          98.75     51.25     398  3.230693e+07  ...             0   \n",
       "1          98.75     51.25     166  2.660860e+07  ...             0   \n",
       "2          98.75     51.25      96  2.564806e+06  ...             0   \n",
       "3          98.75     51.25     358  3.070350e+07  ...             0   \n",
       "4          98.75     51.25     874  1.999051e+08  ...             0   \n",
       "...          ...       ...     ...           ...  ...           ...   \n",
       "105193    121.25     55.50     308  3.510748e+07  ...             0   \n",
       "105194    121.25     55.50     375  1.061767e+07  ...             0   \n",
       "105195    121.25     55.50  147094  7.184864e+09  ...             0   \n",
       "105196    121.25     55.50   19070  5.655092e+08  ...             0   \n",
       "105197    121.25     55.50   51512  3.202202e+09  ...             0   \n",
       "\n",
       "        업종_명_부동산_및_임대업 업종_명_생활용품_도소매업  업종_명_수리업  업종_명_숙박업  업종_명_스포츠_및_오락_서비스업  \\\n",
       "0                    0              0         0         0                   0   \n",
       "1                    0              0         0         0                   0   \n",
       "2                    0              0         0         0                   0   \n",
       "3                    0              0         0         0                   0   \n",
       "4                    0              0         0         0                   0   \n",
       "...                ...            ...       ...       ...                 ...   \n",
       "105193               0              0         0         0                   0   \n",
       "105194               0              0         0         0                   0   \n",
       "105195               0              0         0         0                   0   \n",
       "105196               0              0         0         0                   0   \n",
       "105197               0              0         0         0                   0   \n",
       "\n",
       "        업종_명_식료품_도소매업  업종_명_음식점_및_주점업  업종_명_제조업  업종_명_중고상품_도소매업  \n",
       "0                   0               0         0               0  \n",
       "1                   0               0         0               0  \n",
       "2                   0               0         0               0  \n",
       "3                   0               0         0               0  \n",
       "4                   0               0         0               0  \n",
       "...               ...             ...       ...             ...  \n",
       "105193              0               0         0               0  \n",
       "105194              0               0         0               0  \n",
       "105195              0               0         0               0  \n",
       "105196              0               0         0               0  \n",
       "105197              0               0         0               0  \n",
       "\n",
       "[105198 rows x 29 columns]"
      ]
     },
     "execution_count": 20,
     "metadata": {},
     "output_type": "execute_result"
    }
   ],
   "source": [
    "onehot"
   ]
  },
  {
   "cell_type": "code",
   "execution_count": 21,
   "metadata": {},
   "outputs": [],
   "source": [
    "import xgboost as xgb\n",
    "\n",
    "xgb_model = xgb.Booster()\n",
    "xgb_model.load_model('xgb_model.model')"
   ]
  },
  {
   "cell_type": "code",
   "execution_count": 22,
   "metadata": {},
   "outputs": [
    {
     "data": {
      "text/plain": [
       "<xgboost.core.Booster at 0x1279c6bf0>"
      ]
     },
     "execution_count": 22,
     "metadata": {},
     "output_type": "execute_result"
    }
   ],
   "source": [
    "xgb_model"
   ]
  },
  {
   "cell_type": "code",
   "execution_count": 23,
   "metadata": {},
   "outputs": [
    {
     "name": "stdout",
     "output_type": "stream",
     "text": [
      "업종_명_가전제품_및_통신기기_도소매업's prediction = [1.7098928e+08]\n",
      "업종_명_개인_서비스업's prediction = [1.5288058e+08]\n",
      "업종_명_교육_및_사업자원_서비스업's prediction = [2.374113e+08]\n",
      "업종_명_기타_도소매업's prediction = [1.7098928e+08]\n",
      "업종_명_기타_서비스업's prediction = [1.7098928e+08]\n",
      "업종_명_부동산_및_임대업's prediction = [1.7098928e+08]\n",
      "업종_명_생활용품_도소매업's prediction = [2.0240483e+08]\n",
      "업종_명_수리업's prediction = [1.7098928e+08]\n",
      "업종_명_숙박업's prediction = [1.7098928e+08]\n",
      "업종_명_스포츠_및_오락_서비스업's prediction = [1.43762e+08]\n",
      "업종_명_식료품_도소매업's prediction = [1.791652e+08]\n",
      "업종_명_음식점_및_주점업's prediction = [2.177781e+08]\n",
      "업종_명_제조업's prediction = [1.7098928e+08]\n",
      "업종_명_중고상품_도소매업's prediction = [3.118639e+09]\n"
     ]
    },
    {
     "name": "stderr",
     "output_type": "stream",
     "text": [
      "/Users/moonseongyu/miniconda3/lib/python3.10/site-packages/xgboost/core.py:122: UserWarning: ntree_limit is deprecated, use `iteration_range` or model slicing instead.\n",
      "  warnings.warn(\n"
     ]
    }
   ],
   "source": [
    "X = onehot[[\"총_생활인구_수\", \"집객시설_수\", \"점포_수\", \"아파트_평균_면적\", \"아파트_평균_시가\", \"영업_개월_평균\", \"폐업_개월_평균\", \"매출_건수\", '업종_명_가전제품_및_통신기기_도소매업',\n",
    "       '업종_명_개인_서비스업', '업종_명_교육_및_사업자원_서비스업', '업종_명_기타_도소매업', '업종_명_기타_서비스업',\n",
    "       '업종_명_부동산_및_임대업', '업종_명_생활용품_도소매업', '업종_명_수리업', '업종_명_숙박업',\n",
    "       '업종_명_스포츠_및_오락_서비스업', '업종_명_식료품_도소매업', '업종_명_음식점_및_주점업', '업종_명_제조업',\n",
    "       '업종_명_중고상품_도소매업']]\n",
    "y = onehot[\"매출_금액\"]\n",
    "\n",
    "sectors = ['업종_명_가전제품_및_통신기기_도소매업',\n",
    "       '업종_명_개인_서비스업', '업종_명_교육_및_사업자원_서비스업', '업종_명_기타_도소매업', '업종_명_기타_서비스업',\n",
    "       '업종_명_부동산_및_임대업', '업종_명_생활용품_도소매업', '업종_명_수리업', '업종_명_숙박업',\n",
    "       '업종_명_스포츠_및_오락_서비스업', '업종_명_식료품_도소매업', '업종_명_음식점_및_주점업', '업종_명_제조업',\n",
    "       '업종_명_중고상품_도소매업']\n",
    "\n",
    "commercial_idx = building.loc[1, \"commercial_row\"]\n",
    "row = onehot.loc[commercial_idx].copy()\n",
    "\n",
    "dtest = xgb.DMatrix(X)\n",
    "\n",
    "for sector in sectors:\n",
    "       row[sector] = 1\n",
    "       data = xgb.DMatrix(row[X.columns].values.reshape(1, -1))  # DMatrix로 변환\n",
    "       pred = xgb_model.predict(data, ntree_limit=xgb_model.best_iteration)\n",
    "       row[sector] = 0\n",
    "       print(f\"{sector}'s prediction = {pred}\")"
   ]
  },
  {
   "cell_type": "code",
   "execution_count": 24,
   "metadata": {},
   "outputs": [],
   "source": [
    "sectors = ['업종_명_가전제품_및_통신기기_도소매업',\n",
    "       '업종_명_개인_서비스업', '업종_명_교육_및_사업자원_서비스업', '업종_명_기타_도소매업', '업종_명_기타_서비스업',\n",
    "       '업종_명_부동산_및_임대업', '업종_명_생활용품_도소매업', '업종_명_수리업', '업종_명_숙박업',\n",
    "       '업종_명_스포츠_및_오락_서비스업', '업종_명_식료품_도소매업', '업종_명_음식점_및_주점업', '업종_명_제조업',\n",
    "       '업종_명_중고상품_도소매업']\n",
    "\n",
    "X = onehot[[\"총_생활인구_수\", \"집객시설_수\", \"점포_수\", \"아파트_평균_면적\", \"아파트_평균_시가\", \"영업_개월_평균\", \"폐업_개월_평균\", \"매출_건수\", '업종_명_가전제품_및_통신기기_도소매업',\n",
    "       '업종_명_개인_서비스업', '업종_명_교육_및_사업자원_서비스업', '업종_명_기타_도소매업', '업종_명_기타_서비스업',\n",
    "       '업종_명_부동산_및_임대업', '업종_명_생활용품_도소매업', '업종_명_수리업', '업종_명_숙박업',\n",
    "       '업종_명_스포츠_및_오락_서비스업', '업종_명_식료품_도소매업', '업종_명_음식점_및_주점업', '업종_명_제조업',\n",
    "       '업종_명_중고상품_도소매업']]\n",
    "y = onehot[\"매출_금액\"]\n",
    "\n",
    "max_value = 0\n",
    "max_sector = None\n",
    "max_sector_idx = 0\n",
    "\n",
    "building[\"업종\"] = None\n",
    "building[\"업종_idx\"] = None\n",
    "\n",
    "dtest = xgb.DMatrix(X)\n",
    "\n",
    "for idx in range(len(building)):\n",
    "       commercial_idx = building.loc[idx, \"commercial_row\"]\n",
    "       row = onehot.loc[commercial_idx].copy()\n",
    "       \n",
    "       for sector in sectors:\n",
    "              row[sector] = 1\n",
    "              data = xgb.DMatrix(row[X.columns].values.reshape(1, -1))  # DMatrix로 변환\n",
    "              pred = xgb_model.predict(data, iteration_range=(0, xgb_model.best_iteration))\n",
    "              row[sector] = 0\n",
    "\n",
    "              if pred > max_value:\n",
    "                     max_value = pred\n",
    "                     max_sector = sector\n",
    "                     max_sector_idx = sectors.index(sector)\n",
    "\n",
    "       building.loc[idx, \"업종\"] = max_sector\n",
    "       building.loc[idx, \"업종_idx\"] = max_sector_idx\n",
    "       max_value = 0\n",
    "       max_sector = None\n",
    "       max_sector_idx = 0"
   ]
  },
  {
   "cell_type": "code",
   "execution_count": 25,
   "metadata": {},
   "outputs": [
    {
     "data": {
      "text/plain": [
       "array([13, 0, 6], dtype=object)"
      ]
     },
     "execution_count": 25,
     "metadata": {},
     "output_type": "execute_result"
    }
   ],
   "source": [
    "building[\"업종_idx\"].unique()"
   ]
  },
  {
   "cell_type": "code",
   "execution_count": 27,
   "metadata": {},
   "outputs": [
    {
     "data": {
      "text/plain": [
       "Index(['Unnamed: 0.3', 'Unnamed: 0.2', 'Unnamed: 0.1', 'Unnamed: 0',\n",
       "       '관리_건축물대장_PK', '관리_상위_건축물대장_PK', '새주소_지상지하_코드', '주소', '지상층수', '지하층수',\n",
       "       '승강기_수', '주건축물수', '세대수', '가구수', '동명칭', '호_명', '층_구분_코드_x', '층_구분_코드_y',\n",
       "       '층_번호', '면적', '용적율', '주차_대수', 'y', 'x', 'commercial_row', '업종',\n",
       "       '업종_idx'],\n",
       "      dtype='object')"
      ]
     },
     "execution_count": 27,
     "metadata": {},
     "output_type": "execute_result"
    }
   ],
   "source": [
    "building.columns"
   ]
  },
  {
   "cell_type": "code",
   "execution_count": 29,
   "metadata": {},
   "outputs": [
    {
     "ename": "KeyError",
     "evalue": "\"['Unnamed: 0.3', 'Unnamed: 0.2', 'Unnamed: 0.1', 'Unnamed: 0'] not found in axis\"",
     "output_type": "error",
     "traceback": [
      "\u001b[0;31m---------------------------------------------------------------------------\u001b[0m",
      "\u001b[0;31mKeyError\u001b[0m                                  Traceback (most recent call last)",
      "Cell \u001b[0;32mIn[29], line 1\u001b[0m\n\u001b[0;32m----> 1\u001b[0m building\u001b[39m.\u001b[39;49mdrop([\u001b[39m'\u001b[39;49m\u001b[39mUnnamed: 0.3\u001b[39;49m\u001b[39m'\u001b[39;49m, \u001b[39m'\u001b[39;49m\u001b[39mUnnamed: 0.2\u001b[39;49m\u001b[39m'\u001b[39;49m, \u001b[39m'\u001b[39;49m\u001b[39mUnnamed: 0.1\u001b[39;49m\u001b[39m'\u001b[39;49m, \u001b[39m'\u001b[39;49m\u001b[39mUnnamed: 0\u001b[39;49m\u001b[39m'\u001b[39;49m], axis\u001b[39m=\u001b[39;49m\u001b[39m1\u001b[39;49m, inplace\u001b[39m=\u001b[39;49m\u001b[39mTrue\u001b[39;49;00m)\n\u001b[1;32m      2\u001b[0m building\u001b[39m.\u001b[39mdrop([\u001b[39m\"\u001b[39m\u001b[39mcommercial_row\u001b[39m\u001b[39m\"\u001b[39m, \u001b[39m\"\u001b[39m\u001b[39m업종\u001b[39m\u001b[39m\"\u001b[39m])\n",
      "File \u001b[0;32m~/miniconda3/lib/python3.10/site-packages/pandas/util/_decorators.py:331\u001b[0m, in \u001b[0;36mdeprecate_nonkeyword_arguments.<locals>.decorate.<locals>.wrapper\u001b[0;34m(*args, **kwargs)\u001b[0m\n\u001b[1;32m    325\u001b[0m \u001b[39mif\u001b[39;00m \u001b[39mlen\u001b[39m(args) \u001b[39m>\u001b[39m num_allow_args:\n\u001b[1;32m    326\u001b[0m     warnings\u001b[39m.\u001b[39mwarn(\n\u001b[1;32m    327\u001b[0m         msg\u001b[39m.\u001b[39mformat(arguments\u001b[39m=\u001b[39m_format_argument_list(allow_args)),\n\u001b[1;32m    328\u001b[0m         \u001b[39mFutureWarning\u001b[39;00m,\n\u001b[1;32m    329\u001b[0m         stacklevel\u001b[39m=\u001b[39mfind_stack_level(),\n\u001b[1;32m    330\u001b[0m     )\n\u001b[0;32m--> 331\u001b[0m \u001b[39mreturn\u001b[39;00m func(\u001b[39m*\u001b[39;49margs, \u001b[39m*\u001b[39;49m\u001b[39m*\u001b[39;49mkwargs)\n",
      "File \u001b[0;32m~/miniconda3/lib/python3.10/site-packages/pandas/core/frame.py:5399\u001b[0m, in \u001b[0;36mDataFrame.drop\u001b[0;34m(self, labels, axis, index, columns, level, inplace, errors)\u001b[0m\n\u001b[1;32m   5251\u001b[0m \u001b[39m@deprecate_nonkeyword_arguments\u001b[39m(version\u001b[39m=\u001b[39m\u001b[39mNone\u001b[39;00m, allowed_args\u001b[39m=\u001b[39m[\u001b[39m\"\u001b[39m\u001b[39mself\u001b[39m\u001b[39m\"\u001b[39m, \u001b[39m\"\u001b[39m\u001b[39mlabels\u001b[39m\u001b[39m\"\u001b[39m])\n\u001b[1;32m   5252\u001b[0m \u001b[39mdef\u001b[39;00m \u001b[39mdrop\u001b[39m(  \u001b[39m# type: ignore[override]\u001b[39;00m\n\u001b[1;32m   5253\u001b[0m     \u001b[39mself\u001b[39m,\n\u001b[0;32m   (...)\u001b[0m\n\u001b[1;32m   5260\u001b[0m     errors: IgnoreRaise \u001b[39m=\u001b[39m \u001b[39m\"\u001b[39m\u001b[39mraise\u001b[39m\u001b[39m\"\u001b[39m,\n\u001b[1;32m   5261\u001b[0m ) \u001b[39m-\u001b[39m\u001b[39m>\u001b[39m DataFrame \u001b[39m|\u001b[39m \u001b[39mNone\u001b[39;00m:\n\u001b[1;32m   5262\u001b[0m \u001b[39m    \u001b[39m\u001b[39m\"\"\"\u001b[39;00m\n\u001b[1;32m   5263\u001b[0m \u001b[39m    Drop specified labels from rows or columns.\u001b[39;00m\n\u001b[1;32m   5264\u001b[0m \n\u001b[0;32m   (...)\u001b[0m\n\u001b[1;32m   5397\u001b[0m \u001b[39m            weight  1.0     0.8\u001b[39;00m\n\u001b[1;32m   5398\u001b[0m \u001b[39m    \"\"\"\u001b[39;00m\n\u001b[0;32m-> 5399\u001b[0m     \u001b[39mreturn\u001b[39;00m \u001b[39msuper\u001b[39;49m()\u001b[39m.\u001b[39;49mdrop(\n\u001b[1;32m   5400\u001b[0m         labels\u001b[39m=\u001b[39;49mlabels,\n\u001b[1;32m   5401\u001b[0m         axis\u001b[39m=\u001b[39;49maxis,\n\u001b[1;32m   5402\u001b[0m         index\u001b[39m=\u001b[39;49mindex,\n\u001b[1;32m   5403\u001b[0m         columns\u001b[39m=\u001b[39;49mcolumns,\n\u001b[1;32m   5404\u001b[0m         level\u001b[39m=\u001b[39;49mlevel,\n\u001b[1;32m   5405\u001b[0m         inplace\u001b[39m=\u001b[39;49minplace,\n\u001b[1;32m   5406\u001b[0m         errors\u001b[39m=\u001b[39;49merrors,\n\u001b[1;32m   5407\u001b[0m     )\n",
      "File \u001b[0;32m~/miniconda3/lib/python3.10/site-packages/pandas/util/_decorators.py:331\u001b[0m, in \u001b[0;36mdeprecate_nonkeyword_arguments.<locals>.decorate.<locals>.wrapper\u001b[0;34m(*args, **kwargs)\u001b[0m\n\u001b[1;32m    325\u001b[0m \u001b[39mif\u001b[39;00m \u001b[39mlen\u001b[39m(args) \u001b[39m>\u001b[39m num_allow_args:\n\u001b[1;32m    326\u001b[0m     warnings\u001b[39m.\u001b[39mwarn(\n\u001b[1;32m    327\u001b[0m         msg\u001b[39m.\u001b[39mformat(arguments\u001b[39m=\u001b[39m_format_argument_list(allow_args)),\n\u001b[1;32m    328\u001b[0m         \u001b[39mFutureWarning\u001b[39;00m,\n\u001b[1;32m    329\u001b[0m         stacklevel\u001b[39m=\u001b[39mfind_stack_level(),\n\u001b[1;32m    330\u001b[0m     )\n\u001b[0;32m--> 331\u001b[0m \u001b[39mreturn\u001b[39;00m func(\u001b[39m*\u001b[39;49margs, \u001b[39m*\u001b[39;49m\u001b[39m*\u001b[39;49mkwargs)\n",
      "File \u001b[0;32m~/miniconda3/lib/python3.10/site-packages/pandas/core/generic.py:4505\u001b[0m, in \u001b[0;36mNDFrame.drop\u001b[0;34m(self, labels, axis, index, columns, level, inplace, errors)\u001b[0m\n\u001b[1;32m   4503\u001b[0m \u001b[39mfor\u001b[39;00m axis, labels \u001b[39min\u001b[39;00m axes\u001b[39m.\u001b[39mitems():\n\u001b[1;32m   4504\u001b[0m     \u001b[39mif\u001b[39;00m labels \u001b[39mis\u001b[39;00m \u001b[39mnot\u001b[39;00m \u001b[39mNone\u001b[39;00m:\n\u001b[0;32m-> 4505\u001b[0m         obj \u001b[39m=\u001b[39m obj\u001b[39m.\u001b[39;49m_drop_axis(labels, axis, level\u001b[39m=\u001b[39;49mlevel, errors\u001b[39m=\u001b[39;49merrors)\n\u001b[1;32m   4507\u001b[0m \u001b[39mif\u001b[39;00m inplace:\n\u001b[1;32m   4508\u001b[0m     \u001b[39mself\u001b[39m\u001b[39m.\u001b[39m_update_inplace(obj)\n",
      "File \u001b[0;32m~/miniconda3/lib/python3.10/site-packages/pandas/core/generic.py:4546\u001b[0m, in \u001b[0;36mNDFrame._drop_axis\u001b[0;34m(self, labels, axis, level, errors, only_slice)\u001b[0m\n\u001b[1;32m   4544\u001b[0m         new_axis \u001b[39m=\u001b[39m axis\u001b[39m.\u001b[39mdrop(labels, level\u001b[39m=\u001b[39mlevel, errors\u001b[39m=\u001b[39merrors)\n\u001b[1;32m   4545\u001b[0m     \u001b[39melse\u001b[39;00m:\n\u001b[0;32m-> 4546\u001b[0m         new_axis \u001b[39m=\u001b[39m axis\u001b[39m.\u001b[39;49mdrop(labels, errors\u001b[39m=\u001b[39;49merrors)\n\u001b[1;32m   4547\u001b[0m     indexer \u001b[39m=\u001b[39m axis\u001b[39m.\u001b[39mget_indexer(new_axis)\n\u001b[1;32m   4549\u001b[0m \u001b[39m# Case for non-unique axis\u001b[39;00m\n\u001b[1;32m   4550\u001b[0m \u001b[39melse\u001b[39;00m:\n",
      "File \u001b[0;32m~/miniconda3/lib/python3.10/site-packages/pandas/core/indexes/base.py:6934\u001b[0m, in \u001b[0;36mIndex.drop\u001b[0;34m(self, labels, errors)\u001b[0m\n\u001b[1;32m   6932\u001b[0m \u001b[39mif\u001b[39;00m mask\u001b[39m.\u001b[39many():\n\u001b[1;32m   6933\u001b[0m     \u001b[39mif\u001b[39;00m errors \u001b[39m!=\u001b[39m \u001b[39m\"\u001b[39m\u001b[39mignore\u001b[39m\u001b[39m\"\u001b[39m:\n\u001b[0;32m-> 6934\u001b[0m         \u001b[39mraise\u001b[39;00m \u001b[39mKeyError\u001b[39;00m(\u001b[39mf\u001b[39m\u001b[39m\"\u001b[39m\u001b[39m{\u001b[39;00m\u001b[39mlist\u001b[39m(labels[mask])\u001b[39m}\u001b[39;00m\u001b[39m not found in axis\u001b[39m\u001b[39m\"\u001b[39m)\n\u001b[1;32m   6935\u001b[0m     indexer \u001b[39m=\u001b[39m indexer[\u001b[39m~\u001b[39mmask]\n\u001b[1;32m   6936\u001b[0m \u001b[39mreturn\u001b[39;00m \u001b[39mself\u001b[39m\u001b[39m.\u001b[39mdelete(indexer)\n",
      "\u001b[0;31mKeyError\u001b[0m: \"['Unnamed: 0.3', 'Unnamed: 0.2', 'Unnamed: 0.1', 'Unnamed: 0'] not found in axis\""
     ]
    }
   ],
   "source": [
    "building.drop(['Unnamed: 0.3', 'Unnamed: 0.2', 'Unnamed: 0.1', 'Unnamed: 0'], axis=1, inplace=True)"
   ]
  },
  {
   "cell_type": "code",
   "execution_count": 32,
   "metadata": {},
   "outputs": [],
   "source": [
    "building.drop([\"commercial_row\", \"업종\"], axis=1, inplace=True)"
   ]
  },
  {
   "cell_type": "code",
   "execution_count": 34,
   "metadata": {},
   "outputs": [],
   "source": [
    "building.to_csv(\"data/building_with_sector.csv\", index=False)"
   ]
  },
  {
   "cell_type": "code",
   "execution_count": null,
   "metadata": {},
   "outputs": [],
   "source": []
  }
 ],
 "metadata": {
  "kernelspec": {
   "display_name": "base",
   "language": "python",
   "name": "python3"
  },
  "language_info": {
   "codemirror_mode": {
    "name": "ipython",
    "version": 3
   },
   "file_extension": ".py",
   "mimetype": "text/x-python",
   "name": "python",
   "nbconvert_exporter": "python",
   "pygments_lexer": "ipython3",
   "version": "3.10.8"
  },
  "orig_nbformat": 4
 },
 "nbformat": 4,
 "nbformat_minor": 2
}
