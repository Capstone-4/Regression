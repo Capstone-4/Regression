{
 "cells": [
  {
   "cell_type": "code",
   "execution_count": 14,
   "metadata": {},
   "outputs": [],
   "source": [
    "import geopandas as gpd\n",
    "\n",
    "def convert_coordinates(df):\n",
    "    # 좌표 변환\n",
    "    geometry = gpd.points_from_xy(df['엑스좌표_값'], df['와이좌표_값'])\n",
    "    gdf = gpd.GeoDataFrame(df, geometry=geometry, crs=\"EPSG:5181\")\n",
    "    gdf = gdf.to_crs(\"EPSG:4326\")\n",
    "\n",
    "    # 변환된 좌표 열 추가\n",
    "    df['new_x'] = gdf.geometry.y\n",
    "    df['new_y'] = gdf.geometry.x\n",
    "\n",
    "    return df"
   ]
  },
  {
   "cell_type": "code",
   "execution_count": 15,
   "metadata": {},
   "outputs": [],
   "source": [
    "import pandas as pd\n",
    "\n",
    "commercial = pd.read_csv(\"data/commercial_with_xy.csv\")"
   ]
  },
  {
   "cell_type": "code",
   "execution_count": 16,
   "metadata": {},
   "outputs": [],
   "source": [
    "commercial = commercial[['상권_코드_명','총_생활인구_수','집객시설_수','점포_수','아파트_평균_면적','아파트_평균_시가','서울_운영_영업_개월_평균','서울_폐업_영업_개월_평균','매출_건수', \"매출_금액\",'구분', '엑스좌표_값', '와이좌표_값']]\n",
    "commercial = commercial.drop_duplicates()\n",
    "commercial.rename(columns={'서울_운영_영업_개월_평균': '영업_개월_평균', '서울_폐업_영업_개월_평균':'폐업_개월_평균','구분':'업종_명'},inplace=True)\n",
    "commercial = commercial.reset_index(drop=True)\n",
    "\n",
    "import numpy as np\n",
    "\n",
    "commercial['아파트시가_log'] = np.log(commercial['아파트_평균_시가'])\n",
    "commercial['매출_log'] = np.log(commercial['매출_금액'])\n",
    "commercial.drop([\"아파트_평균_시가\", \"매출_금액\"], axis = 1, inplace = True)"
   ]
  },
  {
   "cell_type": "code",
   "execution_count": 17,
   "metadata": {},
   "outputs": [],
   "source": [
    "commercial = convert_coordinates(commercial)"
   ]
  },
  {
   "cell_type": "code",
   "execution_count": 18,
   "metadata": {},
   "outputs": [],
   "source": [
    "onehot = pd.get_dummies(commercial, columns = ['업종_명'])"
   ]
  },
  {
   "cell_type": "code",
   "execution_count": 19,
   "metadata": {},
   "outputs": [],
   "source": [
    "onehot['업종_명_가전제품_및_통신기기_도소매업'] = 0\n",
    "onehot['업종_명_개인_서비스업'] = 0\n",
    "onehot['업종_명_교육_및_사업자원_서비스업'] = 0\n",
    "onehot['업종_명_기타_도소매업'] = 0\n",
    "onehot['업종_명_기타_서비스업'] = 0\n",
    "onehot['업종_명_부동산_및_임대업'] = 0\n",
    "onehot['업종_명_생활용품_도소매업'] = 0\n",
    "onehot['업종_명_수리업'] = 0\n",
    "onehot['업종_명_숙박업'] = 0\n",
    "onehot['업종_명_스포츠_및_오락_서비스업'] = 0\n",
    "onehot['업종_명_식료품_도소매업'] = 0\n",
    "onehot['업종_명_음식점_및_주점업'] = 0\n",
    "onehot['업종_명_제조업'] = 0\n",
    "onehot['업종_명_중고상품_도소매업'] = 0"
   ]
  },
  {
   "cell_type": "code",
   "execution_count": 26,
   "metadata": {},
   "outputs": [],
   "source": [
    "onehot.columns\n",
    "X = onehot[[\"총_생활인구_수\", \"집객시설_수\", \"점포_수\", \"아파트_평균_면적\", \"아파트시가_log\", \"영업_개월_평균\", \"폐업_개월_평균\", \"매출_건수\", '업종_명_가전제품_및_통신기기_도소매업',\n",
    "       '업종_명_개인_서비스업', '업종_명_교육_및_사업자원_서비스업', '업종_명_기타_도소매업', '업종_명_기타_서비스업',\n",
    "       '업종_명_부동산_및_임대업', '업종_명_생활용품_도소매업', '업종_명_수리업', '업종_명_숙박업',\n",
    "       '업종_명_스포츠_및_오락_서비스업', '업종_명_식료품_도소매업', '업종_명_음식점_및_주점업', '업종_명_제조업',\n",
    "       '업종_명_중고상품_도소매업', \"매출_log\", \"new_x\", \"new_y\"]]"
   ]
  },
  {
   "cell_type": "code",
   "execution_count": 25,
   "metadata": {},
   "outputs": [],
   "source": [
    "X.to_csv(\"data/commercial_with_xy_epsg4326_onehot.csv\", index=False)"
   ]
  },
  {
   "cell_type": "code",
   "execution_count": null,
   "metadata": {},
   "outputs": [],
   "source": []
  }
 ],
 "metadata": {
  "kernelspec": {
   "display_name": "base",
   "language": "python",
   "name": "python3"
  },
  "language_info": {
   "codemirror_mode": {
    "name": "ipython",
    "version": 3
   },
   "file_extension": ".py",
   "mimetype": "text/x-python",
   "name": "python",
   "nbconvert_exporter": "python",
   "pygments_lexer": "ipython3",
   "version": "3.10.8"
  },
  "orig_nbformat": 4
 },
 "nbformat": 4,
 "nbformat_minor": 2
}
