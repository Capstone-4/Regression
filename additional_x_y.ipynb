{
 "cells": [
  {
   "cell_type": "code",
   "execution_count": 1,
   "metadata": {},
   "outputs": [],
   "source": [
    "import pandas as pd\n",
    "import requests"
   ]
  },
  {
   "cell_type": "code",
   "execution_count": 3,
   "metadata": {},
   "outputs": [
    {
     "name": "stdout",
     "output_type": "stream",
     "text": [
      "0\n"
     ]
    },
    {
     "name": "stderr",
     "output_type": "stream",
     "text": [
      "/var/folders/3f/97dc0f4132b4wnjnn7ms7g3c0000gn/T/ipykernel_6193/3615340633.py:36: SettingWithCopyWarning: \n",
      "A value is trying to be set on a copy of a slice from a DataFrame\n",
      "\n",
      "See the caveats in the documentation: https://pandas.pydata.org/pandas-docs/stable/user_guide/indexing.html#returning-a-view-versus-a-copy\n",
      "  data[\"x\"][i] = lng\n",
      "/var/folders/3f/97dc0f4132b4wnjnn7ms7g3c0000gn/T/ipykernel_6193/3615340633.py:37: SettingWithCopyWarning: \n",
      "A value is trying to be set on a copy of a slice from a DataFrame\n",
      "\n",
      "See the caveats in the documentation: https://pandas.pydata.org/pandas-docs/stable/user_guide/indexing.html#returning-a-view-versus-a-copy\n",
      "  data[\"y\"][i] = lat\n"
     ]
    },
    {
     "name": "stdout",
     "output_type": "stream",
     "text": [
      "1000\n",
      "2000\n",
      "3000\n",
      "4000\n",
      "5000\n",
      "6000\n",
      "7000\n",
      "8000\n",
      "9000\n",
      "10000\n",
      "11000\n",
      "12000\n",
      "13000\n",
      "14000\n",
      "15000\n",
      "16000\n",
      "17000\n",
      "18000\n",
      "19000\n",
      "20000\n",
      "21000\n",
      "22000\n",
      "23000\n",
      "24000\n",
      "25000\n",
      "26000\n",
      "27000\n",
      "28000\n"
     ]
    }
   ],
   "source": [
    "api_url = 'https://naveropenapi.apigw.ntruss.com/map-geocode/v2/geocode?query='\n",
    "client_id = 'snxb1zlw0d'\n",
    "client_pw = 'bkbJRgfkJe3J2ZQixebxIUzvoBeKriZPJWkB1Xyq'\n",
    "\n",
    "data = pd.read_csv(\"data/outer.csv\")\n",
    "\n",
    "client_id = \"snxb1zlw0d\"\n",
    "client_secret = \"bkbJRgfkJe3J2ZQixebxIUzvoBeKriZPJWkB1Xyq\"\n",
    "\n",
    "endpoint = \"https://naveropenapi.apigw.ntruss.com/map-geocode/v2/geocode\"\n",
    "\n",
    "headers = {\n",
    "    \"X-NCP-APIGW-API-KEY-ID\": client_id,\n",
    "    \"X-NCP-APIGW-API-KEY\": client_secret,\n",
    "}\n",
    "\n",
    "data[\"x\"] = None\n",
    "data[\"y\"] = None\n",
    "\n",
    "for i in range(len(data)):\n",
    "    query = data[\"주소\"][i]\n",
    "    url = f\"{endpoint}?query={query}\"\n",
    "    res = requests.get(url, headers=headers)\n",
    "    \n",
    "    if i % 10000 == 0:\n",
    "        print(i)\n",
    "    elif i % 1000 == 0:\n",
    "        print(i)\n",
    "    \n",
    "    if res.status_code == 200:\n",
    "            map_data = res.json()\n",
    "            try:\n",
    "                lat = map_data['addresses'][0]['y']  # 위도\n",
    "                lng = map_data['addresses'][0]['x']  # 경도\n",
    "                \n",
    "                data[\"x\"][i] = lng\n",
    "                data[\"y\"][i] = lat\n",
    "            except:\n",
    "                lat = None\n",
    "                lng = None"
   ]
  },
  {
   "cell_type": "code",
   "execution_count": 4,
   "metadata": {},
   "outputs": [],
   "source": [
    "data.to_csv(\"data/outer.csv\")"
   ]
  },
  {
   "cell_type": "code",
   "execution_count": 5,
   "metadata": {},
   "outputs": [
    {
     "data": {
      "text/plain": [
       "28358"
      ]
     },
     "execution_count": 5,
     "metadata": {},
     "output_type": "execute_result"
    }
   ],
   "source": [
    "len(data)"
   ]
  },
  {
   "cell_type": "code",
   "execution_count": null,
   "metadata": {},
   "outputs": [],
   "source": []
  }
 ],
 "metadata": {
  "kernelspec": {
   "display_name": "base",
   "language": "python",
   "name": "python3"
  },
  "language_info": {
   "codemirror_mode": {
    "name": "ipython",
    "version": 3
   },
   "file_extension": ".py",
   "mimetype": "text/x-python",
   "name": "python",
   "nbconvert_exporter": "python",
   "pygments_lexer": "ipython3",
   "version": "3.10.8"
  },
  "orig_nbformat": 4
 },
 "nbformat": 4,
 "nbformat_minor": 2
}
